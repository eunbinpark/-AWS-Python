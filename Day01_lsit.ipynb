{
 "cells": [
  {
   "cell_type": "code",
   "execution_count": 6,
   "id": "a0dbd248",
   "metadata": {},
   "outputs": [
    {
     "name": "stdout",
     "output_type": "stream",
     "text": [
      "[0, 1, 2, 3, 4, 5, 6, 7, 8, 9]\n",
      "False\n",
      "[0, 1, 2, 3, 4, 5, 6, 7, 8, 9, 100, 101, 102, 103, 104, 105, 106, 107, 108, 109]\n"
     ]
    },
    {
     "data": {
      "text/plain": [
       "[0, 1, 2, 3, 4, 5, 6, 7, 8, 9, 0, 1, 2, 3, 4, 5, 6, 7, 8, 9]"
      ]
     },
     "execution_count": 6,
     "metadata": {},
     "output_type": "execute_result"
    }
   ],
   "source": [
    "list_a = [i for i in range(10)]\n",
    "list_b = [i for i in range(100, 110)]\n",
    "print(list_a)\n",
    "\n",
    "#in\n",
    "if 100 in list_a:\n",
    "    print('True')\n",
    "else:\n",
    "    print('False')\n",
    "    \n",
    "#concat\n",
    "list_c = list_a + list_b\n",
    "print(list_c)\n",
    "\n",
    "# * 리스트에 *연산을 하면 리스트가 두번 출력됨\n",
    "list_a * 2\n",
    "2 * list_a"
   ]
  },
  {
   "cell_type": "code",
   "execution_count": 28,
   "id": "12a658dc",
   "metadata": {},
   "outputs": [
    {
     "name": "stdout",
     "output_type": "stream",
     "text": [
      "d\n",
      "['d', 'f', 'h', 'c']\n",
      "15\n",
      "a\n",
      "n\n",
      "9\n",
      "['a', 'b', 'c', 'd', 'e', 'f', 'g', 'h', 'i', 'x', 'j', 'k', 'l', 'm', 'n']\n",
      "count :  1\n"
     ]
    }
   ],
   "source": [
    "list_d = list('abcdefghicjklmn')\n",
    "print(list_d[3]) # 인덱스\n",
    "print(list_d[3 :10 : 2])\n",
    "print(len(list_d))\n",
    "print(min(list_d))\n",
    "print(max(list_d))\n",
    "c_index = list_d.index('c', 3, 10)\n",
    "print(c_index)\n",
    "list_d[c_index] = 'x'\n",
    "print(list_d)\n",
    "print('count : ', list_d.count('c'))"
   ]
  },
  {
   "cell_type": "code",
   "execution_count": 50,
   "id": "4fd29316",
   "metadata": {
    "scrolled": false
   },
   "outputs": [
    {
     "name": "stdout",
     "output_type": "stream",
     "text": [
      "x : 2\n",
      "e : 29\n",
      "b : 7\n",
      "h : 14\n",
      "y : 8\n",
      "w : 2\n",
      "l : 10\n",
      "m : 6\n",
      "u : 6\n",
      "t : 26\n",
      "n : 20\n",
      "d : 11\n",
      "a : 19\n",
      "i : 19\n",
      "o : 15\n",
      "p : 6\n",
      "r : 15\n",
      "s : 18\n",
      "f : 4\n",
      "g : 4\n",
      "c : 10\n"
     ]
    }
   ],
   "source": [
    "s = 'While The Python Language Reference describes the exact syntax and semantics of the Python language, this library reference manual describes the standard library that is distributed with Python. It also describes some of the optional components that are commonly included in Python distributions.'\n",
    "#print(s)\n",
    "list_s = list(s.lower()) # lower : 전부 소문자로 만들어줌\n",
    "set_s = set(list_s)\n",
    "#print(set_s)\n",
    "exclude_list = ['.', ',', ' ']\n",
    "for i in set_s:\n",
    "    if i not in exclude_list:\n",
    "        print(i, ':', list_s.count(i))"
   ]
  },
  {
   "cell_type": "code",
   "execution_count": 62,
   "id": "ab92974b",
   "metadata": {
    "scrolled": false
   },
   "outputs": [
    {
     "name": "stdout",
     "output_type": "stream",
     "text": [
      "[1, 2, 3]\n",
      "['a', 'b', 'c']\n",
      "{'a': 1, 'b': 2, 'c': 3}\n",
      "{'a': 1, 'b': 2, 'c': 3}\n",
      "dict_items([('a', 1), ('b', 2), ('c', 3)])\n",
      "{'a': 1, 'b': 2, 'c': 3}\n",
      "3\n",
      "3\n",
      "None\n",
      "{'a': 1, 'b': 2, 'c': 3, 'y': 15}\n"
     ]
    }
   ],
   "source": [
    "list_a = [1, 2, 3]\n",
    "list_b = list('abc')\n",
    "d1 = {'a' : 1, 'b' : 2, 'c' : 3}\n",
    "print(list_a)\n",
    "print(list_b)\n",
    "print(d1)\n",
    "\n",
    "d2 = dict(zip(list_b, list_a)) # zip : 딕셔너리를 만들어줌, 키값이 앞에 벨류값이 뒤에\n",
    "print(d2)\n",
    "print(d2.items())\n",
    "\n",
    "d3 = dict([('a', 1), ('b', 2), ('c', 3)])\n",
    "print(d3)\n",
    "\n",
    "print(d3['c']) # 조회기능\n",
    "print(d3.get('c')) # 위에것과 동일한기능\n",
    "print(d3.get('x')) # 하지만 []와 달리 에러가 발생하지 않고 결과로 none이 나옴\n",
    "d3['y'] = 15\n",
    "print(d3)"
   ]
  },
  {
   "cell_type": "code",
   "execution_count": 67,
   "id": "e28a7a70",
   "metadata": {},
   "outputs": [
    {
     "name": "stdout",
     "output_type": "stream",
     "text": [
      "a : 1\n",
      "b : 2\n",
      "c : 3\n",
      "y : 15\n",
      "dict_keys(['a', 'b', 'c', 'y'])\n",
      "dict_values([1, 2, 3, 15])\n",
      "1\n",
      "2\n",
      "3\n",
      "15\n",
      "{'a': 1, 'b': 2, 'c': 3, 'y': 15}\n",
      "{'a': 1, 'b': 2, 'c': 3, 'y': 20}\n"
     ]
    }
   ],
   "source": [
    "for i in d3:\n",
    "    print(i, ':', d3[i])\n",
    "    \n",
    "print(d3.keys())\n",
    "print(d3.values())\n",
    "\n",
    "for i in d3.values():\n",
    "    print(i)\n",
    "print(d3)\n",
    "\n",
    "d3['y'] = 20 # 벨류값 변경\n",
    "print(d3)"
   ]
  }
 ],
 "metadata": {
  "kernelspec": {
   "display_name": "Python 3 (ipykernel)",
   "language": "python",
   "name": "python3"
  },
  "language_info": {
   "codemirror_mode": {
    "name": "ipython",
    "version": 3
   },
   "file_extension": ".py",
   "mimetype": "text/x-python",
   "name": "python",
   "nbconvert_exporter": "python",
   "pygments_lexer": "ipython3",
   "version": "3.10.9"
  }
 },
 "nbformat": 4,
 "nbformat_minor": 5
}
