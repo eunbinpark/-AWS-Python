{
 "cells": [
  {
   "cell_type": "code",
   "execution_count": 5,
   "id": "d781a21c",
   "metadata": {},
   "outputs": [
    {
     "name": "stdout",
     "output_type": "stream",
     "text": [
      "       0    1    2    3               4\n",
      "0    5.1  3.5  1.4  0.2     Iris-setosa\n",
      "1    4.9  3.0  1.4  0.2     Iris-setosa\n",
      "2    4.7  3.2  1.3  0.2     Iris-setosa\n",
      "3    4.6  3.1  1.5  0.2     Iris-setosa\n",
      "4    5.0  3.6  1.4  0.2     Iris-setosa\n",
      "..   ...  ...  ...  ...             ...\n",
      "145  6.7  3.0  5.2  2.3  Iris-virginica\n",
      "146  6.3  2.5  5.0  1.9  Iris-virginica\n",
      "147  6.5  3.0  5.2  2.0  Iris-virginica\n",
      "148  6.2  3.4  5.4  2.3  Iris-virginica\n",
      "149  5.9  3.0  5.1  1.8  Iris-virginica\n",
      "\n",
      "[150 rows x 5 columns]\n"
     ]
    }
   ],
   "source": [
    "import numpy as np\n",
    "import pandas as pd\n",
    "import requests\n",
    "\n",
    "#iris_data_str = requests.get('https://archive.ics.uci.edu/ml/machine-learning-databases/iris/iris.data')\n",
    "iris_df = pd.read_csv('iris.data', header = None)\n",
    "print(iris_df)"
   ]
  },
  {
   "cell_type": "code",
   "execution_count": 10,
   "id": "a2ae79c2",
   "metadata": {},
   "outputs": [
    {
     "name": "stdout",
     "output_type": "stream",
     "text": [
      "0    a\n",
      "1    b\n",
      "2    c\n",
      "3    d\n",
      "4    e\n",
      "dtype: object\n",
      "<class 'pandas.core.frame.DataFrame'> <class 'pandas.core.series.Series'>\n"
     ]
    }
   ],
   "source": [
    "s1 = pd.Series(list('abcde'))\n",
    "print(s1)\n",
    "print(type(iris_df), type(s1))"
   ]
  },
  {
   "cell_type": "code",
   "execution_count": 21,
   "id": "c48e8dd0",
   "metadata": {},
   "outputs": [
    {
     "name": "stdout",
     "output_type": "stream",
     "text": [
      "6    16\n",
      "7    17\n",
      "8    18\n",
      "9    19\n",
      "dtype: int64\n"
     ]
    }
   ],
   "source": [
    "s2 = pd.Series([1, 1.0, 'a'])\n",
    "s3 = pd.Series([x for x in range(10, 20)])\n",
    "#print(s3)\n",
    "#print(s3[3])\n",
    "#print(s3[3:8:2])\n",
    "#print(s3[[3, 7, 9]])\n",
    "print(s3[s3 > 15])"
   ]
  },
  {
   "cell_type": "code",
   "execution_count": 24,
   "id": "f41dab09",
   "metadata": {},
   "outputs": [
    {
     "name": "stdout",
     "output_type": "stream",
     "text": [
      "1\n",
      "int64\n",
      "(10,)\n"
     ]
    }
   ],
   "source": [
    "print(s3.ndim)\n",
    "print(s3.dtype)\n",
    "print(s3.shape)\n",
    "s3_f = s3.astype(np.float64)\n",
    "print(s3_f)"
   ]
  },
  {
   "cell_type": "code",
   "execution_count": null,
   "id": "af094f91",
   "metadata": {},
   "outputs": [],
   "source": [
    "s3_np = s3.to_numpy()\n",
    "print(s3_np, type(s3_np))"
   ]
  },
  {
   "cell_type": "code",
   "execution_count": null,
   "id": "3b8bf0ba",
   "metadata": {},
   "outputs": [],
   "source": [
    "print(s3*3)"
   ]
  },
  {
   "cell_type": "code",
   "execution_count": null,
   "id": "10912aa3",
   "metadata": {},
   "outputs": [],
   "source": [
    "### df\n",
    "\n",
    "s1 = pd.Series([x for x in range(10, 20)])\n",
    "s2 = pd.Series([x for x in range(100, 120)])\n",
    "s3 = pd.Series(list('abcdefghi'))\n",
    "df1 = pd.DataFrame({'a':s1, 'b':s2, 'c': s3})\n",
    "#print(df1)\n",
    "#print(df1[['a', 'c']])\n",
    "#print(df1[2]) #숫자로 그대로 하면 2로 되어있는 키가 없다고 에러가 뜬다\n",
    "#print(df1[2:5]) #범위는 상관없음\n",
    "print(df1[:5])"
   ]
  },
  {
   "cell_type": "code",
   "execution_count": null,
   "id": "21307fbe",
   "metadata": {},
   "outputs": [],
   "source": [
    "print(df1.head())\n",
    "print(df1.tail(10))"
   ]
  },
  {
   "cell_type": "code",
   "execution_count": null,
   "id": "e3b28c38",
   "metadata": {},
   "outputs": [],
   "source": [
    "#print(df1)\n",
    "#print(df1.loc[3:10,['a','c']])\n",
    "print(df1.iloc[3:10,[0,2]]) #iloc은 숫자로만 인덱싱가능"
   ]
  }
 ],
 "metadata": {
  "kernelspec": {
   "display_name": "Python 3 (ipykernel)",
   "language": "python",
   "name": "python3"
  },
  "language_info": {
   "codemirror_mode": {
    "name": "ipython",
    "version": 3
   },
   "file_extension": ".py",
   "mimetype": "text/x-python",
   "name": "python",
   "nbconvert_exporter": "python",
   "pygments_lexer": "ipython3",
   "version": "3.10.9"
  }
 },
 "nbformat": 4,
 "nbformat_minor": 5
}
