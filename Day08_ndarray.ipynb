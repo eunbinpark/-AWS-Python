{
 "cells": [
  {
   "cell_type": "code",
   "execution_count": 2,
   "id": "a1048405",
   "metadata": {},
   "outputs": [],
   "source": [
    "#리스트랑 비슷하지만 계산에 좀 더 치중되어있음 \n",
    "import numpy as np"
   ]
  },
  {
   "cell_type": "code",
   "execution_count": 3,
   "id": "c4546979",
   "metadata": {},
   "outputs": [
    {
     "name": "stdout",
     "output_type": "stream",
     "text": [
      "[1, 2, 3, 4, 5]\n",
      "[1 2 3 4 5]\n",
      "<class 'numpy.ndarray'>\n"
     ]
    }
   ],
   "source": [
    "a1 = np.array([1, 2, 3, 4, 5])\n",
    "print([1, 2, 3, 4, 5])\n",
    "print(a1)\n",
    "print(type(a1))"
   ]
  },
  {
   "cell_type": "code",
   "execution_count": 4,
   "id": "9ad4846f",
   "metadata": {},
   "outputs": [
    {
     "name": "stdout",
     "output_type": "stream",
     "text": [
      "[0 1 2 3 4 5 6 7 8 9]\n"
     ]
    }
   ],
   "source": [
    "a2 = np.arange(10)\n",
    "print(a2)"
   ]
  },
  {
   "cell_type": "code",
   "execution_count": 5,
   "id": "a658a104",
   "metadata": {},
   "outputs": [
    {
     "name": "stdout",
     "output_type": "stream",
     "text": [
      "[ 3  6  9 12 15 18 21 24 27 30 33 36 39 42 45 48 51 54 57 60 63 66 69 72\n",
      " 75 78 81 84 87 90 93 96 99]\n"
     ]
    }
   ],
   "source": [
    "# 변수 a3, 100아래의 3의 배수\n",
    "\n",
    "a3 = np.arange(3, 100, 3)\n",
    "print(a3)"
   ]
  },
  {
   "cell_type": "code",
   "execution_count": 6,
   "id": "8316ef65",
   "metadata": {},
   "outputs": [
    {
     "name": "stdout",
     "output_type": "stream",
     "text": [
      "[1.3 1.8 2.3 2.8 3.3 3.8 4.3 4.8 5.3 5.8 6.3 6.8 7.3 7.8 8.3 8.8 9.3 9.8]\n"
     ]
    }
   ],
   "source": [
    "# 1에서 부터 10아래 0.5씩 증가는 숫자, step = 0.5\n",
    "a4 = np.arange(1.3,10, 0.5)\n",
    "print(a4)\n",
    "\n",
    "\n",
    "#lista = [i for i in range(1.3, 10, 0.5)]"
   ]
  },
  {
   "cell_type": "code",
   "execution_count": 8,
   "id": "ed2bea03",
   "metadata": {},
   "outputs": [
    {
     "name": "stdout",
     "output_type": "stream",
     "text": [
      "[ 0.          0.71428571  1.42857143  2.14285714  2.85714286  3.57142857\n",
      "  4.28571429  5.          5.71428571  6.42857143  7.14285714  7.85714286\n",
      "  8.57142857  9.28571429 10.        ]\n"
     ]
    }
   ],
   "source": [
    "a4 = np.linspace(0, 10, 15) #수평으로 잘랐을 때 구분해달라는 말, arange는 두번째에 스탑을 해주는 것이 안들어갔음 \n",
    "# 하지만 linspace는 들어감 \n",
    "print(a4)"
   ]
  },
  {
   "cell_type": "code",
   "execution_count": 10,
   "id": "d32793d7",
   "metadata": {},
   "outputs": [
    {
     "name": "stdout",
     "output_type": "stream",
     "text": [
      "[0. 0. 0. 0. 0.]\n",
      "[1 1 1 1 1]\n"
     ]
    },
    {
     "data": {
      "text/plain": [
       "array([1., 1., 1., 1., 1.])"
      ]
     },
     "execution_count": 10,
     "metadata": {},
     "output_type": "execute_result"
    }
   ],
   "source": [
    "#, 대신 .로 들어감 정수대신 실수로 들어간다는 의미\n",
    "a5 = np.zeros(5)\n",
    "print(a5)\n",
    "\n",
    "#실수 -> 정수로 바꿈 \n",
    "a6 = np.ones(5, dtype = np.int64)\n",
    "print(a6)\n",
    "#정수 ->float으로 바꿈 \n",
    "a6.astype(np.float64)"
   ]
  },
  {
   "cell_type": "code",
   "execution_count": 12,
   "id": "0aa57f5a",
   "metadata": {},
   "outputs": [
    {
     "name": "stdout",
     "output_type": "stream",
     "text": [
      "[1.  2.  3.5 4.2]\n",
      "['1' '2' 'abc' 'def']\n"
     ]
    }
   ],
   "source": [
    "#정수를 실수로 강제통일\n",
    "lista = [1, 2, 3.5, 4.2]\n",
    "a7 = np.array(lista)\n",
    "print(a7)\n",
    "\n",
    "#문자열로 강제로 통일\n",
    "listb = [1, 2, 'abc', 'def']\n",
    "a8 = np.array(listb)\n",
    "print(a8)\n",
    "#a8.astype(np.int64) "
   ]
  },
  {
   "cell_type": "code",
   "execution_count": 14,
   "id": "28ad8f36",
   "metadata": {},
   "outputs": [
    {
     "name": "stdout",
     "output_type": "stream",
     "text": [
      "float64\n",
      "1\n",
      "(4,)\n",
      "4\n",
      "8\n",
      "<memory at 0x00000132A97AF940>\n"
     ]
    }
   ],
   "source": [
    "#a8.dtype # ('<U11') = 유니코드라는 뜻\n",
    "print(a7.dtype)\n",
    "print(a7.ndim) #몇차원 array인지를 물어보는 것 \n",
    "print(a7.shape) #어떤 모양인지를 물어보는 것 , 투플형태로 일차원 배열이라는 결과가 나옴 \n",
    "print(a7.size) #이 배열안에 있는 모든 elument들의 갯수 \n",
    "\n",
    "print(a7.itemsize) #데이터 타입의 byte사이즈\n",
    "print(a7.data)"
   ]
  },
  {
   "cell_type": "code",
   "execution_count": 16,
   "id": "60c5804d",
   "metadata": {},
   "outputs": [
    {
     "name": "stdout",
     "output_type": "stream",
     "text": [
      "[10 15 20 25 30 35 40 45 50 55 60 65 70 75 80 85 90 95]\n",
      "10 95\n",
      "[25 30 35 40]\n",
      "[20 30 40 50]\n"
     ]
    }
   ],
   "source": [
    "a10 = np.arange(10, 100, 5)\n",
    "print(a10)\n",
    "\n",
    "#특정 인덱스 \n",
    "print(a10[0], a10[-1])\n",
    "\n",
    "#스타트, 스탑\n",
    "print(a10[3:7])\n",
    "\n",
    "#스타트, 스탑, 스텝\n",
    "print(a10[2:9:2])\n",
    "\n",
    "#인덱싱 하고 파이썬 리스트하고 결과는 똑같음 "
   ]
  },
  {
   "cell_type": "code",
   "execution_count": 23,
   "id": "7ae27e5d",
   "metadata": {},
   "outputs": [
    {
     "name": "stdout",
     "output_type": "stream",
     "text": [
      "10\n",
      "[15 25 45]\n",
      "[10, 15, 20, 25, 30, 35, 40, 45, 50, 55, 60, 65, 70, 75, 80, 85, 90, 95]\n"
     ]
    }
   ],
   "source": [
    "a10 = np.arange(10, 100, 5)\n",
    "print(10)\n",
    "print(a10[[1, 3, 7]])\n",
    "\n",
    "#파이썬 리스트를 사용\n",
    "list10 = [x for x in range(10, 100, 5)]\n",
    "print(list10)\n",
    "#print(list10[[1, 3, 7]])"
   ]
  },
  {
   "cell_type": "code",
   "execution_count": 20,
   "id": "dab4e8fe",
   "metadata": {},
   "outputs": [
    {
     "name": "stdout",
     "output_type": "stream",
     "text": [
      "[10 15 20 25 30 35 40 45 50 55 60 65 70 75 80 85 90 95]\n",
      "[15 25 35 45 55 65 75 85 95]\n",
      "[False  True False  True False  True False  True False  True False  True\n",
      " False  True False  True False  True]\n",
      "(18,)\n",
      "(18,)\n",
      "[15 25 35 45 55 65 75 85 95]\n"
     ]
    }
   ],
   "source": [
    "#조건식 사용 \n",
    "\n",
    "a10 = np.arange(10, 100, 5)\n",
    "print(a10)\n",
    "print(a10[a10%10==5])\n",
    "\n",
    "#내가 원하는 정보만 뽑아보기..?\n",
    "x= (a10%10==5) \n",
    "print(x)\n",
    "print(x.shape)\n",
    "print(a10.shape)\n",
    "print(a10[x])"
   ]
  },
  {
   "cell_type": "code",
   "execution_count": 21,
   "id": "c52f15a5",
   "metadata": {},
   "outputs": [
    {
     "name": "stdout",
     "output_type": "stream",
     "text": [
      "[0, 1, 2]\n",
      "[10, 11, 12, 13, 14]\n",
      "[0, 1, 2, 10, 11, 12, 13, 14]\n"
     ]
    }
   ],
   "source": [
    "#그냥 담아줌 (2개의 리스트를 연결)\n",
    "lista = [x for x in range(3)]\n",
    "listb = [x for x in range(10, 15)]\n",
    "print(lista)\n",
    "print(listb)\n",
    "print(lista + listb)\n",
    "#print(lista - listb)"
   ]
  },
  {
   "cell_type": "code",
   "execution_count": 22,
   "id": "d9bcc041",
   "metadata": {},
   "outputs": [
    {
     "name": "stdout",
     "output_type": "stream",
     "text": [
      "[0 1 2 3 4]\n",
      "[10 11 12 13 14]\n",
      "add: [10 12 14 16 18]\n",
      "[ 0  1  2  3  4 10 11 12 13 14]\n",
      "sub: [-10 -10 -10 -10 -10]\n",
      "mul: [ 0 11 24 39 56]\n",
      "div: [0.         0.09090909 0.16666667 0.23076923 0.28571429]\n"
     ]
    }
   ],
   "source": [
    "#계산을 하려고 함 \n",
    "a1 = np.arange(5)\n",
    "a2 = np.arange(10,15)\n",
    "print(a1)\n",
    "print(a2)\n",
    "print('add:',a1+ a2)\n",
    "#연결할때\n",
    "print(  np.concatenate((a1, a2))   )\n",
    "\n",
    "print('sub:', a1-a2)\n",
    "print('mul:',a1*a2)\n",
    "print('div:',a1/a2)"
   ]
  }
 ],
 "metadata": {
  "kernelspec": {
   "display_name": "Python 3 (ipykernel)",
   "language": "python",
   "name": "python3"
  },
  "language_info": {
   "codemirror_mode": {
    "name": "ipython",
    "version": 3
   },
   "file_extension": ".py",
   "mimetype": "text/x-python",
   "name": "python",
   "nbconvert_exporter": "python",
   "pygments_lexer": "ipython3",
   "version": "3.10.9"
  }
 },
 "nbformat": 4,
 "nbformat_minor": 5
}
