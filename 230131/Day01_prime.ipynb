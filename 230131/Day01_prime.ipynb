{
 "cells": [
  {
   "cell_type": "code",
   "execution_count": 29,
   "id": "f2fb0005",
   "metadata": {},
   "outputs": [
    {
     "name": "stdout",
     "output_type": "stream",
     "text": [
      "prime\n"
     ]
    }
   ],
   "source": [
    "# 소수 : 1과 자기자신으로만 나누어 떨어지는 수. ex) 2, 3, 5, 7...\n",
    "n = 7\n",
    "\n",
    "flag = 0\n",
    "\n",
    "for i in range(2, n):\n",
    "    if n % i == 0:\n",
    "        print('Not prime')\n",
    "        flag = 1\n",
    "        break\n",
    "\n",
    "if flag == 0:\n",
    "    print('prime')"
   ]
  },
  {
   "cell_type": "code",
   "execution_count": null,
   "id": "50dd25bd",
   "metadata": {},
   "outputs": [],
   "source": [
    "# 1000 아래 모든 소수를 list_prime에 넣기"
   ]
  }
 ],
 "metadata": {
  "kernelspec": {
   "display_name": "Python 3 (ipykernel)",
   "language": "python",
   "name": "python3"
  },
  "language_info": {
   "codemirror_mode": {
    "name": "ipython",
    "version": 3
   },
   "file_extension": ".py",
   "mimetype": "text/x-python",
   "name": "python",
   "nbconvert_exporter": "python",
   "pygments_lexer": "ipython3",
   "version": "3.10.9"
  }
 },
 "nbformat": 4,
 "nbformat_minor": 5
}
