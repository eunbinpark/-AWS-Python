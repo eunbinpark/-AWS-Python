{
 "cells": [
  {
   "cell_type": "markdown",
   "id": "815160b3",
   "metadata": {},
   "source": [
    "전국어린이보호구역표준데이터\n",
    "\n",
    "- 시설종류별 CCTV 설치 여부 카운트 / 대수\n",
    "- 광역시도별, 시설종류별 카운트\n",
    "- 관할경찰서별 CCTV 대수\n",
    "- CCTV 평균 설치대수\n",
    "- 도로폭/CCTV 설치대수 상관도"
   ]
  },
  {
   "cell_type": "code",
   "execution_count": null,
   "id": "5b16a8be",
   "metadata": {},
   "outputs": [],
   "source": [
    "import numpy as np\n",
    "import pandas as pd\n",
    "\n",
    "pd_data = pd.read_csv('전국어린이보호구역표준데이터.csv', encoding = 'cp949')\n",
    "\n",
    "pd_data.drop(drop_list, axis = 1, inplace=True)\n",
    "\n",
    "#print(pd_data.dtypes)\n",
    "#print(pd_data.shape)\n",
    "#print(pd_data.head(3))\n",
    "#for e in enumerate(pd_data.columns):\n",
    "#    print(e)\n"
   ]
  }
 ],
 "metadata": {
  "kernelspec": {
   "display_name": "Python 3 (ipykernel)",
   "language": "python",
   "name": "python3"
  },
  "language_info": {
   "codemirror_mode": {
    "name": "ipython",
    "version": 3
   },
   "file_extension": ".py",
   "mimetype": "text/x-python",
   "name": "python",
   "nbconvert_exporter": "python",
   "pygments_lexer": "ipython3",
   "version": "3.10.9"
  }
 },
 "nbformat": 4,
 "nbformat_minor": 5
}
