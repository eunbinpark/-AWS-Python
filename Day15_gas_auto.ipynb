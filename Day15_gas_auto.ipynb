{
 "cells": [
  {
   "cell_type": "code",
   "execution_count": 7,
   "id": "8a635f17",
   "metadata": {},
   "outputs": [],
   "source": [
    "import numpy as np\n",
    "import matplotlib.pyplot as plt\n",
    "from scipy import stats\n",
    "\n",
    "np.set_printoptions(precision=5, suppress=True)"
   ]
  },
  {
   "cell_type": "code",
   "execution_count": 10,
   "id": "3a960e30",
   "metadata": {},
   "outputs": [],
   "source": [
    "def read_data():\n",
    "    raw_data=[]\n",
    "    with open('가스공급량_20230220145315.csv') as f:\n",
    "        for line in f:\n",
    "            raw_data.append(line[:-1].split(','))\n",
    "    np_data = np.array(raw_data[2:])\n",
    "    np_data = np_data[:, 2:].astype(np.int64)\n",
    "    return np_data\n",
    "    \n",
    "def get_dorr(np_data):\n",
    "    by_year = np.add.reduceat(np_data, np.arange(0,130,12))\n",
    "    return np.corrcoef(by_year[:, 1], by_year[:, 5])"
   ]
  },
  {
   "cell_type": "code",
   "execution_count": null,
   "id": "8c3c0265",
   "metadata": {},
   "outputs": [],
   "source": [
    "d = read_data()\n",
    "out = get_dorr(d)\n",
    "print(out)"
   ]
  }
 ],
 "metadata": {
  "kernelspec": {
   "display_name": "Python 3 (ipykernel)",
   "language": "python",
   "name": "python3"
  },
  "language_info": {
   "codemirror_mode": {
    "name": "ipython",
    "version": 3
   },
   "file_extension": ".py",
   "mimetype": "text/x-python",
   "name": "python",
   "nbconvert_exporter": "python",
   "pygments_lexer": "ipython3",
   "version": "3.10.9"
  }
 },
 "nbformat": 4,
 "nbformat_minor": 5
}
