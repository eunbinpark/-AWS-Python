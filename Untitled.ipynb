{
 "cells": [
  {
   "cell_type": "markdown",
   "id": "527c7f74",
   "metadata": {},
   "source": [
    "### 데이터산업의 기술등급별 데이터직무 인력 현황\n",
    "\n",
    "* 데이터 직무별 axe 생성\n",
    "    - x축 : 시점\n",
    "    - y축 : 업종 (2개)\n",
    "    \n",
    "* 하나의 figure에, 총 8개 axe가 바둑판 형식으로 배치되는 형태. (4 col x 2 rows), figure 사이즈는 각자 알아서.\n",
    "* title 표시"
   ]
  },
  {
   "cell_type": "code",
   "execution_count": 3,
   "id": "ec622fe0",
   "metadata": {},
   "outputs": [
    {
     "data": {
      "text/html": [
       "<div>\n",
       "<style scoped>\n",
       "    .dataframe tbody tr th:only-of-type {\n",
       "        vertical-align: middle;\n",
       "    }\n",
       "\n",
       "    .dataframe tbody tr th {\n",
       "        vertical-align: top;\n",
       "    }\n",
       "\n",
       "    .dataframe thead th {\n",
       "        text-align: right;\n",
       "    }\n",
       "</style>\n",
       "<table border=\"1\" class=\"dataframe\">\n",
       "  <thead>\n",
       "    <tr style=\"text-align: right;\">\n",
       "      <th></th>\n",
       "      <th>데이터직무별(1)</th>\n",
       "      <th>시점</th>\n",
       "      <th>기술등급별(1)</th>\n",
       "      <th>데이터 처리 및 관리 솔루션 개발·공급업</th>\n",
       "      <th>데이터 구축 및 컨설팅 서비스업</th>\n",
       "    </tr>\n",
       "  </thead>\n",
       "  <tbody>\n",
       "    <tr>\n",
       "      <th>0</th>\n",
       "      <td>데이터 아키텍트</td>\n",
       "      <td>2018</td>\n",
       "      <td>계</td>\n",
       "      <td>806</td>\n",
       "      <td>4330</td>\n",
       "    </tr>\n",
       "    <tr>\n",
       "      <th>1</th>\n",
       "      <td>데이터 아키텍트</td>\n",
       "      <td>2019</td>\n",
       "      <td>계</td>\n",
       "      <td>1202</td>\n",
       "      <td>4355</td>\n",
       "    </tr>\n",
       "    <tr>\n",
       "      <th>2</th>\n",
       "      <td>데이터 아키텍트</td>\n",
       "      <td>2020</td>\n",
       "      <td>계</td>\n",
       "      <td>1588</td>\n",
       "      <td>4915</td>\n",
       "    </tr>\n",
       "    <tr>\n",
       "      <th>3</th>\n",
       "      <td>데이터 아키텍트</td>\n",
       "      <td>2021</td>\n",
       "      <td>계</td>\n",
       "      <td>2061</td>\n",
       "      <td>6044</td>\n",
       "    </tr>\n",
       "    <tr>\n",
       "      <th>4</th>\n",
       "      <td>데이터 개발자</td>\n",
       "      <td>2018</td>\n",
       "      <td>계</td>\n",
       "      <td>4579</td>\n",
       "      <td>16302</td>\n",
       "    </tr>\n",
       "  </tbody>\n",
       "</table>\n",
       "</div>"
      ],
      "text/plain": [
       "  데이터직무별(1)    시점 기술등급별(1)  데이터 처리 및 관리 솔루션 개발·공급업  데이터 구축 및 컨설팅 서비스업\n",
       "0  데이터 아키텍트  2018        계                     806               4330\n",
       "1  데이터 아키텍트  2019        계                    1202               4355\n",
       "2  데이터 아키텍트  2020        계                    1588               4915\n",
       "3  데이터 아키텍트  2021        계                    2061               6044\n",
       "4   데이터 개발자  2018        계                    4579              16302"
      ]
     },
     "execution_count": 3,
     "metadata": {},
     "output_type": "execute_result"
    }
   ],
   "source": [
    "import numpy as np\n",
    "import pandas as pd\n",
    "import matplotlib.pyplot as plt\n",
    "\n",
    "pd_data = pd.read_csv('데이터산업의_기술등급별_데이터직무_인력_현황_20230303160535.csv', encoding='cp949')\n",
    "pd_data.head()"
   ]
  },
  {
   "cell_type": "code",
   "execution_count": 7,
   "id": "2591f62c",
   "metadata": {
    "scrolled": false
   },
   "outputs": [
    {
     "data": {
      "text/plain": [
       "[<matplotlib.lines.Line2D at 0x1705cda1000>]"
      ]
     },
     "execution_count": 7,
     "metadata": {},
     "output_type": "execute_result"
    },
    {
     "data": {
      "image/png": "[encoded data removed]",
      "text/plain": [
       "<Figure size 640x480 with 1 Axes>"
      ]
     },
     "metadata": {},
     "output_type": "display_data"
    }
   ],
   "source": [
    "filter1 = pd_data['데이터직무별(1)'] == '데이터 아키텍트'\n",
    "sub_data = pd_data[filter1]\n",
    "\n",
    "filter2 = pd_data['데이터직무별(1)'] == '데이터 개발자'\n",
    "sub_data = pd_data[filter2]\n",
    "\n",
    "_, axe = plt.subplots()\n",
    "axe.plot(sub_data['시점'], sub_data.iloc[:, 3])\n",
    "axe.plot(sub_data['시점'], sub_data.iloc[:, 4])\n",
    "\n",
    "for i in range(8):\n",
    "    sub_data "
   ]
  }
 ],
 "metadata": {
  "kernelspec": {
   "display_name": "Python 3 (ipykernel)",
   "language": "python",
   "name": "python3"
  },
  "language_info": {
   "codemirror_mode": {
    "name": "ipython",
    "version": 3
   },
   "file_extension": ".py",
   "mimetype": "text/x-python",
   "name": "python",
   "nbconvert_exporter": "python",
   "pygments_lexer": "ipython3",
   "version": "3.10.9"
  }
 },
 "nbformat": 4,
 "nbformat_minor": 5
}
