{
 "cells": [
  {
   "cell_type": "markdown",
   "id": "d70fd81b",
   "metadata": {},
   "source": [
    "### uci machine learning repo : abalone\n",
    "* 상황 : 전복회를 사려는 사람. 암수 구분해서 주문하는 것이 이득인지 알고 싶음\n",
    "    \n",
    "* whole weight : 전체 무게\n",
    "* shucked weight : 살점 무게\n",
    "* viscera weight : 내장 무게\n",
    "* shell weight : 껍질 무게\n",
    "\n",
    "https://archive.ics.uci.edu/ml/datasets/abalone\n",
    "\n",
    "data url: https://archive.ics.uci.edu/ml/machine-learning-databases/abalone/abalone.data"
   ]
  },
  {
   "cell_type": "code",
   "execution_count": null,
   "id": "d594ec1f",
   "metadata": {},
   "outputs": [],
   "source": [
    "import seaborn as sns\n",
    "import numpy as np\n",
    "import pandas as pd\n",
    "import matplotlib.pyplot as plt\n",
    "import matplotlib\n",
    "\n",
    "current_font_list= matplotlib.rcParams['font.family']\n",
    "\n",
    "font_path =\"C:\\Windows\\Fonts\\GULIM.TTC\"\n",
    "kfont = matplotlib.font_manager.FontProperties(fname= font_path).get_name()\n",
    "matplotlib.rcParams['font.family'] = [kfont] + current_font_list\n",
    "\n",
    "url = 'https://archive.ics.uci.edu/ml/machine-learning-databases/abalone/abalone.data'\n",
    "\n",
    "x = requests.get(url)"
   ]
  }
 ],
 "metadata": {
  "kernelspec": {
   "display_name": "Python 3 (ipykernel)",
   "language": "python",
   "name": "python3"
  },
  "language_info": {
   "codemirror_mode": {
    "name": "ipython",
    "version": 3
   },
   "file_extension": ".py",
   "mimetype": "text/x-python",
   "name": "python",
   "nbconvert_exporter": "python",
   "pygments_lexer": "ipython3",
   "version": "3.10.9"
  }
 },
 "nbformat": 4,
 "nbformat_minor": 5
}
