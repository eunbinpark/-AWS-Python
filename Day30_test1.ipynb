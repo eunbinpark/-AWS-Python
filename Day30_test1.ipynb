{
 "cells": [
  {
   "cell_type": "code",
   "execution_count": 81,
   "id": "e0492da0",
   "metadata": {},
   "outputs": [],
   "source": [
    "# 1번\n",
    "\n",
    "def my_sq_prod(number_list):\n",
    "    return_value = 1\n",
    "\n",
    "    for number in number_list:\n",
    "        return_value = return_value * number**2\n",
    "    return return_value\n",
    "\n",
    "assert my_sq_prod([1,2,3]) == 36"
   ]
  },
  {
   "cell_type": "code",
   "execution_count": 82,
   "id": "70aa4898",
   "metadata": {},
   "outputs": [],
   "source": [
    "# 2번\n",
    "\n",
    "import math\n",
    "\n",
    "def my_sq_prod(number_list):\n",
    "    return_list = []\n",
    "    for number in number_list:\n",
    "        return_list.append(number**2)\n",
    "    return math.prod(return_list)\n",
    "\n",
    "assert my_sq_prod([1,2,3]) == 36"
   ]
  },
  {
   "cell_type": "code",
   "execution_count": 83,
   "id": "6a234a5d",
   "metadata": {},
   "outputs": [],
   "source": [
    "# 3번\n",
    "\n",
    "import numpy as np\n",
    "import math\n",
    "\n",
    "def my_sq_prod3(number_list):\n",
    "    a = np.array(number_list)\n",
    "    return_list = a * a\n",
    "    return math.prod(return_list)\n",
    "\n",
    "assert my_sq_prod3([4, 5, 6]) == 14400"
   ]
  },
  {
   "cell_type": "code",
   "execution_count": 103,
   "id": "624ab239",
   "metadata": {},
   "outputs": [
    {
     "ename": "NameError",
     "evalue": "name 'my_sq_prod' is not defined",
     "output_type": "error",
     "traceback": [
      "\u001b[1;31m---------------------------------------------------------------------------\u001b[0m",
      "\u001b[1;31mNameError\u001b[0m                                 Traceback (most recent call last)",
      "Cell \u001b[1;32mIn[103], line 19\u001b[0m\n\u001b[0;32m      3\u001b[0m \u001b[38;5;28;01mimport\u001b[39;00m \u001b[38;5;21;01m박은빈\u001b[39;00m\n\u001b[0;32m      5\u001b[0m \u001b[38;5;66;03m# def my_sq_prod(number_list):\u001b[39;00m\n\u001b[0;32m      6\u001b[0m \u001b[38;5;66;03m#     return_value = 1\u001b[39;00m\n\u001b[0;32m      7\u001b[0m \n\u001b[1;32m   (...)\u001b[0m\n\u001b[0;32m     17\u001b[0m     \n\u001b[0;32m     18\u001b[0m \u001b[38;5;66;03m# score_check()\u001b[39;00m\n\u001b[1;32m---> 19\u001b[0m \u001b[43m박은빈\u001b[49m\u001b[38;5;241;43m.\u001b[39;49m\u001b[43mscore_check\u001b[49m\u001b[43m(\u001b[49m\u001b[43m)\u001b[49m\n",
      "File \u001b[1;32mC:\\junil\\eunbin\\python\\-AWS-Python\\박은빈.py:5\u001b[0m, in \u001b[0;36mscore_check\u001b[1;34m()\u001b[0m\n\u001b[0;32m      2\u001b[0m return_value \u001b[38;5;241m=\u001b[39m \u001b[38;5;241m1\u001b[39m\n\u001b[0;32m      4\u001b[0m \u001b[38;5;28;01mfor\u001b[39;00m number \u001b[38;5;129;01min\u001b[39;00m number_list:\n\u001b[1;32m----> 5\u001b[0m     return_value \u001b[38;5;241m=\u001b[39m return_value \u001b[38;5;241m*\u001b[39m number\u001b[38;5;241m*\u001b[39m\u001b[38;5;241m*\u001b[39m\u001b[38;5;241m2\u001b[39m\n\u001b[0;32m      6\u001b[0m \u001b[38;5;28;01mreturn\u001b[39;00m return_value\n",
      "\u001b[1;31mNameError\u001b[0m: name 'my_sq_prod' is not defined"
     ]
    }
   ],
   "source": [
    "# 4번\n",
    "\n",
    "import 박은빈\n",
    "\n",
    "# def my_sq_prod(number_list):\n",
    "#     return_value = 1\n",
    "\n",
    "#     for number in number_list:\n",
    "#         return_value = return_value * number**2\n",
    "#     return return_value\n",
    "\n",
    "# def score_check():\n",
    "#     score = 0\n",
    "#     if my_sq_prod([1,2,3])==36:\n",
    "#         score += 30\n",
    "#     print(score)\n",
    "    \n",
    "# score_check()\n",
    "박은빈.score_check()"
   ]
  }
 ],
 "metadata": {
  "kernelspec": {
   "display_name": "Python 3 (ipykernel)",
   "language": "python",
   "name": "python3"
  },
  "language_info": {
   "codemirror_mode": {
    "name": "ipython",
    "version": 3
   },
   "file_extension": ".py",
   "mimetype": "text/x-python",
   "name": "python",
   "nbconvert_exporter": "python",
   "pygments_lexer": "ipython3",
   "version": "3.10.9"
  }
 },
 "nbformat": 4,
 "nbformat_minor": 5
}
