{
 "cells": [
  {
   "cell_type": "code",
   "execution_count": 1,
   "id": "1b725fb3",
   "metadata": {},
   "outputs": [
    {
     "name": "stdout",
     "output_type": "stream",
     "text": [
      "(150,)\n",
      "(150, 1)\n",
      "(150,)\n",
      "(150, 1)\n",
      "(150, 2)\n",
      "[[ 1.45714286  7.        ]\n",
      " [ 1.63333333  7.        ]\n",
      " [ 1.46875     6.5       ]\n",
      " [ 1.48387097  7.5       ]\n",
      " [ 1.38888889  7.        ]\n",
      " [ 1.38461538  4.25      ]\n",
      " [ 1.35294118  4.66666667]\n",
      " [ 1.47058824  7.5       ]\n",
      " [ 1.51724138  7.        ]\n",
      " [ 1.58064516 15.        ]]\n"
     ]
    }
   ],
   "source": [
    "import pickle\n",
    "import numpy as np\n",
    "import matplotlib.pyplot as plt\n",
    "\n",
    "with open('iris_ndarray.pickle', 'rb') as f:\n",
    "    iris_np = pickle.load(f)\n",
    "#print(iris_np)\n",
    "# sepal ratio : sepal length[0] / sepal width[1]\n",
    "sepal_length = iris_np[:, 0]\n",
    "sepal_width = iris_np[:, 1]\n",
    "sepal_ratio = sepal_length / sepal_width\n",
    "#print(sepal_ratio)\n",
    "\n",
    "# petal ratio : petal length[3] / petal width[4]\n",
    "petal_length = iris_np[:, 2]\n",
    "petal_width = iris_np[:, 3]\n",
    "petal_ratio = petal_length / petal_width\n",
    "#print(petal_ratio)\n",
    "\n",
    "print(sepal_ratio.shape)\n",
    "sepal_ratio_2d = np.expand_dims(sepal_ratio, 1)\n",
    "print(sepal_ratio_2d.shape)\n",
    "\n",
    "print(petal_ratio.shape)\n",
    "petal_ratio_2d = petal_ratio[:, np.newaxis]\n",
    "print(petal_ratio_2d.shape)\n",
    "\n",
    "concat_result = np.concatenate((sepal_ratio_2d, petal_ratio_2d), axis = 1)\n",
    "print(concat_result.shape)\n",
    "print(concat_result[:10])"
   ]
  },
  {
   "cell_type": "code",
   "execution_count": 2,
   "id": "a93311bd",
   "metadata": {
    "scrolled": false
   },
   "outputs": [
    {
     "data": {
      "text/plain": [
       "<matplotlib.collections.PathCollection at 0x211e2545570>"
      ]
     },
     "execution_count": 2,
     "metadata": {},
     "output_type": "execute_result"
    },
    {
     "data": {
      "image/png": "[encoded data removed]",
      "text/plain": [
       "<Figure size 640x480 with 1 Axes>"
      ]
     },
     "metadata": {},
     "output_type": "display_data"
    }
   ],
   "source": [
    "filter_class0 = iris_np[:, -1] == 0.0\n",
    "iris_np_class0 = iris_np[filter_class0]\n",
    "\n",
    "filter_class1 = iris_np[:, -1] == 1.0\n",
    "iris_np_class1 = iris_np[filter_class1]\n",
    "\n",
    "filter_class2 = iris_np[:, -1] == 2.0 \n",
    "iris_np_class2 = iris_np[filter_class2]\n",
    "\n",
    "_, axe = plt.subplots()\n",
    "axe.set_xlim(0, 3.0)\n",
    "axe.set_xlim(0, 8)\n",
    "# class 0만 풀롯, bool list를 이용 필터링\n",
    "axe.scatter(iris_np_class0[:, 2], iris_np_class0[:, 3])\n",
    "axe.scatter(iris_np_class1[:, 2], iris_np_class1[:, 3])\n",
    "axe.scatter(iris_np_class2[:, 2], iris_np_class2[:, 3])"
   ]
  },
  {
   "cell_type": "code",
   "execution_count": 6,
   "id": "9fac4514",
   "metadata": {},
   "outputs": [
    {
     "name": "stdout",
     "output_type": "stream",
     "text": [
      "(150, 2)\n",
      "(2,)\n",
      "[3.82753184 3.82753184 3.92173431] 150\n",
      "[0. 0. 0.] 150\n",
      "(150, 1)\n",
      "(150, 1)\n",
      "(150, 2)\n",
      "[array([1.41421356, 2.        ]), array([0.41231056, 2.        ]), array([1.08166538, 2.        ]), array([0.67082039, 2.        ]), array([1.06301458, 2.        ]), array([1.70880075, 2.        ]), array([0.53851648, 2.        ]), array([1.33416641, 2.        ]), array([0.85440037, 2.        ]), array([1.48660687, 2.        ])]\n"
     ]
    }
   ],
   "source": [
    "def kNN_predict(iris_np_data, petal_length, petal_width):\n",
    "    sub_data = iris_np_data[:, 2:4]\n",
    "    target_np = np.array([petal_length, petal_width])\n",
    "    print(sub_data.shape)\n",
    "    print(target_np.shape)\n",
    "    #print(target_np - sub_data)        # [5.0 1.5] - [1.4 2.0]\n",
    "    #print((target_np - sub_data) ** 2)\n",
    "    \n",
    "    #print(np.sum(((target_np - sub_data) ** 2), axis = 1))\n",
    "    dist = np.sqrt(np.sum(((target_np - sub_data) ** 2), axis = 1))\n",
    "    print(dist[:3], len(dist))\n",
    "    class_np = iris_np_data[:, -1]\n",
    "    print(class_np[:3], len(class_np))\n",
    "    \n",
    "    dist_1 = np.expand_dims(dist, 1)\n",
    "    class_np_1 = np.expand_dims(class_np, 1)\n",
    "    print(dist_1.shape)\n",
    "    print(class_np_1.shape)\n",
    "    r = np.concatenate((dist_1, class_np_1), axis = 1)\n",
    "    print(r.shape)\n",
    "    r = sorted(r, key = lambda x : x[1], reverse = True)\n",
    "    print(r[:10])\n",
    "\n",
    "kNN_predict(iris_np, 5.0, 1.5)  # 거리가 가장 가까운 5개 샘플기록 반환"
   ]
  },
  {
   "cell_type": "code",
   "execution_count": null,
   "id": "52c7d247",
   "metadata": {},
   "outputs": [],
   "source": []
  }
 ],
 "metadata": {
  "kernelspec": {
   "display_name": "Python 3 (ipykernel)",
   "language": "python",
   "name": "python3"
  },
  "language_info": {
   "codemirror_mode": {
    "name": "ipython",
    "version": 3
   },
   "file_extension": ".py",
   "mimetype": "text/x-python",
   "name": "python",
   "nbconvert_exporter": "python",
   "pygments_lexer": "ipython3",
   "version": "3.10.9"
  }
 },
 "nbformat": 4,
 "nbformat_minor": 5
}
