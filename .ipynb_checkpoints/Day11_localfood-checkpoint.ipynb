{
 "cells": [
  {
   "cell_type": "code",
   "execution_count": 3,
   "id": "9d87e26a",
   "metadata": {},
   "outputs": [
    {
     "name": "stdout",
     "output_type": "stream",
     "text": [
      "[['로컬푸드인증번호', '인증유효시작일자', '인증유효종료일자', '인증취소일자', '사업장도로명주소', '사업장지번주소', '생산지도로명주소', '생산지지번주소', '품목명', '재배면적', '재배규모', '인증부여일자', '사업자명', '사업자등록번호', '전화번호', '관리기관명', '데이터기준일자', '제공기관코드', '제공기관명'], ['HYG-162', '2021-09-01', '2031-09-01', '', '경상남도 함양군 수동면 산업단지길 209+경상남도 함양군 수동면 우명하교로 174', '', '경상남도 함양군 병곡면 다볕길 94', '', '칡청+달맞이꽃씨유', '', '122', '2021-09-01', '청운당농산', '', '070-7779-2122', '경상남도 함양군청', '2022-11-23', '5460000', '경상남도 함양군'], ['HYG-163', '2021-09-01', '2031-09-01', '', '경상남도 함양군 수동면 산업단지길 209+경상남도 함양군 수동면 우명하교로 174', '', '경상남도 함양군 수동면 사근산성길 35-4', '', '굼벵이환', '', '123', '2021-09-01', '굼찬농장', '', '070-7779-2122', '경상남도 함양군청', '2022-11-23', '5460000', '경상남도 함양군']]\n",
      "{19}\n"
     ]
    }
   ],
   "source": [
    "import pickle\n",
    "import numpy as np\n",
    "\n",
    "def my_split(s):\n",
    "    block_start = False\n",
    "    start_index = 0\n",
    "    ret_list=[]\n",
    "    for i, c in enumerate(s):\n",
    "        if block_start==False:\n",
    "            if c==',':\n",
    "                ret_list.append(s[start_index:i])\n",
    "                start_index=i+1\n",
    "            elif c=='\"':\n",
    "                block_start=True\n",
    "                start_index = i\n",
    "        else:\n",
    "            if c=='\"':\n",
    "                block_start=False\n",
    "    if s[-1]!=',':\n",
    "        ret_list.append(s[start_index:])\n",
    "    return ret_list\n",
    "\n",
    "def split_len(data_list):\n",
    "    len_list = []\n",
    "    for e in data_list:\n",
    "        len_list.append(len(e))\n",
    "    print(set(len_list))\n",
    "    if len(set(len_list)) > 1:\n",
    "        for i in set(len_list):\n",
    "            print(i,len_list.count(i))\n",
    "\n",
    "raw_data = []\n",
    "with open('전국로컬푸드인증정보표준데이터.csv') as f:\n",
    "    for line in f:\n",
    "        raw_data.append(my_split(line[:-1]))\n",
    "print(raw_data[:3])\n",
    "split_len(raw_data)"
   ]
  },
  {
   "cell_type": "code",
   "execution_count": 4,
   "id": "6b0c91d8",
   "metadata": {},
   "outputs": [
    {
     "name": "stdout",
     "output_type": "stream",
     "text": [
      "(0, '로컬푸드인증번호')\n",
      "(1, '인증유효시작일자')\n",
      "(2, '인증유효종료일자')\n",
      "(3, '인증취소일자')\n",
      "(4, '사업장도로명주소')\n",
      "(5, '사업장지번주소')\n",
      "(6, '생산지도로명주소')\n",
      "(7, '생산지지번주소')\n",
      "(8, '품목명')\n",
      "(9, '재배면적')\n",
      "(10, '재배규모')\n",
      "(11, '인증부여일자')\n",
      "(12, '사업자명')\n",
      "(13, '사업자등록번호')\n",
      "(14, '전화번호')\n",
      "(15, '관리기관명')\n",
      "(16, '데이터기준일자')\n",
      "(17, '제공기관코드')\n",
      "(18, '제공기관명')\n"
     ]
    }
   ],
   "source": [
    "for e in enumerate(raw_data[0]):\n",
    "    print(e)"
   ]
  },
  {
   "cell_type": "code",
   "execution_count": 7,
   "id": "875b7370",
   "metadata": {},
   "outputs": [
    {
     "name": "stdout",
     "output_type": "stream",
     "text": [
      "(7794, 19)\n",
      "['사업장도로명주소' '사업장지번주소' '생산지도로명주소' '생산지지번주소' '품목명']\n"
     ]
    }
   ],
   "source": [
    "np_data = np.array(raw_data)\n",
    "print(np_data.shape)\n",
    "np_data = np_data[:, 4:9]\n",
    "print(np_data[0])"
   ]
  },
  {
   "cell_type": "code",
   "execution_count": 29,
   "id": "67cc9b9e",
   "metadata": {},
   "outputs": [],
   "source": [
    "def process_product_names(s):\n",
    "    r = []\n",
    "    remove_after = ['(', '외']\n",
    "    split_at = ['+', ',']\n",
    "    for c in remove_after:\n",
    "        if c in s:\n",
    "            s = s[:s.index(c)]\n",
    "    \n",
    "    for c in split_at:\n",
    "        if c in s:\n",
    "            r = s.split(c)\n",
    "    \n",
    "    if len(r) == 0:\n",
    "        r.append(s)\n",
    "        \n",
    "    return r\n",
    "\n",
    "#sample1 = 'productA+productB'\n",
    "#sample2 = 'productA,productB'\n",
    "#sample3 = 'product(A+B)'\n",
    "#sample4 = 'product외 abc'\n",
    "#sample5 = 'product'\n",
    "\n",
    "#assert process_product_names(sample1) == ['productA', 'productB']\n",
    "#assert process_product_names(sample2) == ['productA', 'productB']\n",
    "#assert process_product_names(sample3) == ['product']\n",
    "#assert process_product_names(sample4) == ['product']\n",
    "#assert process_product_names(sample5) == ['product']"
   ]
  },
  {
   "cell_type": "code",
   "execution_count": 16,
   "id": "05de43a8",
   "metadata": {},
   "outputs": [
    {
     "name": "stdout",
     "output_type": "stream",
     "text": [
      "['경상남도 함양군', '경상남도 함양군', '경상남도 함양군']\n"
     ]
    }
   ],
   "source": [
    "area_name_list = []\n",
    "for sample in np_data[1:]:\n",
    "    area_name = ''\n",
    "    for i in sample[:-1]:\n",
    "        i = i.strip(' \"')\n",
    "        if len(i) > 0:\n",
    "            area_name = ' '.join(i.split()[:2])\n",
    "            area_name_list.append(area_name)\n",
    "            break\n",
    "            \n",
    "print(area_name_list[:3])"
   ]
  }
 ],
 "metadata": {
  "kernelspec": {
   "display_name": "Python 3 (ipykernel)",
   "language": "python",
   "name": "python3"
  },
  "language_info": {
   "codemirror_mode": {
    "name": "ipython",
    "version": 3
   },
   "file_extension": ".py",
   "mimetype": "text/x-python",
   "name": "python",
   "nbconvert_exporter": "python",
   "pygments_lexer": "ipython3",
   "version": "3.10.9"
  }
 },
 "nbformat": 4,
 "nbformat_minor": 5
}
