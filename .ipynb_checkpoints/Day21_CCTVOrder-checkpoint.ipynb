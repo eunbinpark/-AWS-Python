{
 "cells": [
  {
   "cell_type": "code",
   "execution_count": 55,
   "id": "bb792195",
   "metadata": {},
   "outputs": [],
   "source": [
    "import numpy as np\n",
    "import pandas as pd\n",
    "\n",
    "pd_rawdata = pd.read_csv('전국노인장애인보호구역표준데이터.csv', encoding='cp949')\n",
    "\n",
    "#print(pd_rawdata.columns)\n",
    "\n",
    "column_selection = ['시도명', '관할경찰서명', 'CCTV설치여부','CCTV설치대수','제공기관명', '보호구역도로폭']\n",
    "\n",
    "pd_data = pd_rawdata[column_selection]\n",
    "\n",
    "#del pd_rawdata"
   ]
  },
  {
   "cell_type": "code",
   "execution_count": 56,
   "id": "0e635511",
   "metadata": {},
   "outputs": [
    {
     "name": "stderr",
     "output_type": "stream",
     "text": [
      "C:\\Users\\ITPS\\AppData\\Local\\Temp\\ipykernel_17292\\349201997.py:4: SettingWithCopyWarning: \n",
      "A value is trying to be set on a copy of a slice from a DataFrame.\n",
      "Try using .loc[row_indexer,col_indexer] = value instead\n",
      "\n",
      "See the caveats in the documentation: https://pandas.pydata.org/pandas-docs/stable/user_guide/indexing.html#returning-a-view-versus-a-copy\n",
      "  pd_data['시도명'] = pd_data['시도명'].astype('category')\n",
      "C:\\Users\\ITPS\\AppData\\Local\\Temp\\ipykernel_17292\\349201997.py:5: SettingWithCopyWarning: \n",
      "A value is trying to be set on a copy of a slice from a DataFrame.\n",
      "Try using .loc[row_indexer,col_indexer] = value instead\n",
      "\n",
      "See the caveats in the documentation: https://pandas.pydata.org/pandas-docs/stable/user_guide/indexing.html#returning-a-view-versus-a-copy\n",
      "  pd_data['CCTV설치여부'] = pd_data['CCTV설치여부'].astype('category')\n"
     ]
    }
   ],
   "source": [
    "#print(pd_data.columns)\n",
    "#print(pd_data.dtypes)\n",
    "\n",
    "pd_data['시도명'] = pd_data['시도명'].astype('category')\n",
    "pd_data['CCTV설치여부'] = pd_data['CCTV설치여부'].astype('category')\n",
    "#print(pd_data.dtypes)"
   ]
  },
  {
   "cell_type": "code",
   "execution_count": 57,
   "id": "ff155ab7",
   "metadata": {},
   "outputs": [
    {
     "name": "stdout",
     "output_type": "stream",
     "text": [
      "시도명 False\n",
      "관할경찰서명 False\n",
      "CCTV설치여부 False\n",
      "CCTV설치대수 True\n",
      "True     1551\n",
      "False     967\n",
      "Name: CCTV설치대수, dtype: int64\n",
      "제공기관명 False\n",
      "보호구역도로폭 True\n",
      "False    1484\n",
      "True     1034\n",
      "Name: 보호구역도로폭, dtype: int64\n"
     ]
    }
   ],
   "source": [
    "for e in pd_data:\n",
    "    print(e, pd_data[e].hasnans)\n",
    "    if pd_data[e].hasnans==True:\n",
    "        print(pd_data[e].isna().value_counts())\n",
    "        \n",
    "# CCTV설치대수, 보호구역도로폭 결측치 있음"
   ]
  },
  {
   "cell_type": "code",
   "execution_count": 58,
   "id": "43d3a028",
   "metadata": {},
   "outputs": [
    {
     "name": "stdout",
     "output_type": "stream",
     "text": [
      "False    2518\n",
      "Name: CCTV설치대수, dtype: int64\n"
     ]
    },
    {
     "name": "stderr",
     "output_type": "stream",
     "text": [
      "C:\\Users\\ITPS\\AppData\\Local\\Temp\\ipykernel_17292\\2790193603.py:9: SettingWithCopyWarning: \n",
      "A value is trying to be set on a copy of a slice from a DataFrame.\n",
      "Try using .loc[row_indexer,col_indexer] = value instead\n",
      "\n",
      "See the caveats in the documentation: https://pandas.pydata.org/pandas-docs/stable/user_guide/indexing.html#returning-a-view-versus-a-copy\n",
      "  pd_data.replace({'CCTV설치여부':'Y', 'CCTV설치대수':np.NaN}, 1, inplace=True)\n",
      "C:\\Users\\ITPS\\AppData\\Local\\Temp\\ipykernel_17292\\2790193603.py:10: SettingWithCopyWarning: \n",
      "A value is trying to be set on a copy of a slice from a DataFrame.\n",
      "Try using .loc[row_indexer,col_indexer] = value instead\n",
      "\n",
      "See the caveats in the documentation: https://pandas.pydata.org/pandas-docs/stable/user_guide/indexing.html#returning-a-view-versus-a-copy\n",
      "  pd_data.replace({'CCTV설치여부':'N', 'CCTV설치대수':np.NaN}, 0, inplace=True)\n"
     ]
    }
   ],
   "source": [
    "#print(pd_data['CCTV설치대수'].unique())\n",
    "#print(pd_data['CCTV설치대수'].hasnans)\n",
    "\n",
    "# CCTV 설치대수: 결측치 처리\n",
    "# CCTV 설치여부 Y --> 1\n",
    "# CCTV 설치여부 N --> 0\n",
    "#print(pd_data['CCTV설치대수'].isna().value_counts())\n",
    "\n",
    "pd_data.replace({'CCTV설치여부':'Y', 'CCTV설치대수':np.NaN}, 1, inplace=True)\n",
    "pd_data.replace({'CCTV설치여부':'N', 'CCTV설치대수':np.NaN}, 0, inplace=True)\n",
    "\n",
    "print(pd_data['CCTV설치대수'].isna().value_counts())"
   ]
  },
  {
   "cell_type": "code",
   "execution_count": 63,
   "id": "5d10be0d",
   "metadata": {},
   "outputs": [],
   "source": [
    "#print(pd_data['보호구역도로폭'].unique())\n",
    "#print(pd_data['보호구역도로폭'].hasnans)\n",
    "\n",
    "def myfn1(x):\n",
    "    if type(x) == type(' '):\n",
    "        if '~' in x:\n",
    "            m = np.array(x.split('~')).astype(np.float64).mean()\n",
    "            return str(m)\n",
    "\n",
    "# 도로폭: 오류치 처리\n",
    "# '숫자a~숫자b' 형태의 문자열 --> '숫자a'와 '숫자b'의 평균치(np.float64) 값으로 대체\n",
    "#print(pd_data['보호구역도로폭'].value_counts())\n",
    "y = pd_data['보호구역도로폭'].apply(myfn1)\n",
    "#print(pd_data['보호구역도로폭'].value_counts())\n",
    "#print(y.dtype)\n",
    "#print(y.value_counts())    \n",
    "\n",
    "# 도로폭: 결측치 처리\n",
    "# 전체 도로폭 평균치로 대체.\n",
    "#print(pd_data['보호구역도로폭'].isna().value_counts())\n",
    "y = y.astype(np.float64)\n",
    "y = y.replace(np.NaN, y.mean())\n",
    "#print(y.isna().value_counts())\n",
    "#pd_data['보호구역도로폭'] = y\n",
    "\n",
    "#print(pd_data['보호구역도로폭'].unique())\n",
    "#print(pd_data['보호구역도로폭'].hasnans)"
   ]
  },
  {
   "cell_type": "code",
   "execution_count": 64,
   "id": "629b08a5",
   "metadata": {},
   "outputs": [
    {
     "name": "stdout",
     "output_type": "stream",
     "text": [
      "시도명 False\n",
      "관할경찰서명 False\n",
      "CCTV설치여부 False\n",
      "CCTV설치대수 False\n",
      "제공기관명 False\n",
      "보호구역도로폭 False\n"
     ]
    }
   ],
   "source": [
    "for e in pd_data:\n",
    "    print(e, pd_data[e].hasnans)\n",
    "    if pd_data[e].hasnans==True:\n",
    "        print(pd_data[e].isna().value_counts())"
   ]
  },
  {
   "cell_type": "code",
   "execution_count": 67,
   "id": "6fc168b3",
   "metadata": {},
   "outputs": [
    {
     "name": "stdout",
     "output_type": "stream",
     "text": [
      "        시도명 관할경찰서명 CCTV설치여부  CCTV설치대수      제공기관명    보호구역도로폭\n",
      "0     서울특별시  강동경찰서        1       1.0  서울특별시 강동구  10.005709\n",
      "1      경상북도  상주경찰서        0       1.0   경상북도 상주시  10.005709\n",
      "2      경상북도  상주경찰서        0       1.0   경상북도 상주시  10.005709\n",
      "3      경상북도  상주경찰서        0       1.0   경상북도 상주시  10.005709\n",
      "4      경상북도  상주경찰서        0       1.0   경상북도 상주시  10.005709\n",
      "...     ...    ...      ...       ...        ...        ...\n",
      "2513  대구광역시  북부경찰서        0       1.0   대구광역시 북구  10.005709\n",
      "2514  대구광역시  북부경찰서        0       1.0   대구광역시 북구  10.005709\n",
      "2515  대구광역시  북부경찰서        0       1.0   대구광역시 북구  10.005709\n",
      "2516  대구광역시  북부경찰서        0       1.0   대구광역시 북구  10.005709\n",
      "2517  대구광역시  북부경찰서        0       1.0   대구광역시 북구  10.005709\n",
      "\n",
      "[2518 rows x 6 columns]\n"
     ]
    }
   ],
   "source": [
    "import pickle\n",
    "\n",
    "with open('전국노인장애인보호구역표준데이터_정제.pickle', 'wb') as f:\n",
    "    pickle.dump(pd_data, f)\n",
    "    \n",
    "# with open('전국노인장애인보호구역표준데이터_정제.pickle', 'rb') as f:\n",
    "#     listb = pickle.load(f)\n",
    "# print(listb)"
   ]
  }
 ],
 "metadata": {
  "kernelspec": {
   "display_name": "Python 3 (ipykernel)",
   "language": "python",
   "name": "python3"
  },
  "language_info": {
   "codemirror_mode": {
    "name": "ipython",
    "version": 3
   },
   "file_extension": ".py",
   "mimetype": "text/x-python",
   "name": "python",
   "nbconvert_exporter": "python",
   "pygments_lexer": "ipython3",
   "version": "3.10.9"
  }
 },
 "nbformat": 4,
 "nbformat_minor": 5
}
