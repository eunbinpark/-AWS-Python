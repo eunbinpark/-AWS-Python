{
 "cells": [
  {
   "cell_type": "code",
   "execution_count": 2,
   "id": "0f9762e7",
   "metadata": {},
   "outputs": [],
   "source": [
    "data_list = []\n",
    "with open('전국건강증진센터표준데이터.csv') as f:\n",
    "    for line in f:\n",
    "        data_list.append(line.split(','))\n",
    "\n",
    "data_list = data_list[1:]"
   ]
  },
  {
   "cell_type": "code",
   "execution_count": 3,
   "id": "bd858dab",
   "metadata": {},
   "outputs": [
    {
     "name": "stdout",
     "output_type": "stream",
     "text": [
      "경기도 65\n",
      "대전광역시 10\n",
      "서울특별시 26\n",
      "경상북도 21\n",
      "전라북도 14\n",
      "경북 1\n",
      "충청남도 16\n",
      "광주광역시 11\n",
      "전라남도 20\n",
      "대구광역시 8\n",
      "울산광역시 7\n",
      "충청북도 12\n",
      "제주특별자치도 10\n",
      "부산광역시 18\n",
      "강원도 16\n",
      "경상남도 20\n",
      "인천광역시 15\n",
      "세종특별자치시 1\n"
     ]
    }
   ],
   "source": [
    "sido_list = []\n",
    "for i in data_list:\n",
    "    if len(i[2]) > 0:\n",
    "        sido_list.append(i[2].split()[0])\n",
    "\n",
    "#for n in sido_list:\n",
    "#    if n[0] == '\"':\n",
    "#        print(n[1:])\n",
    "#    else:\n",
    "#        print(n)\n",
    "        \n",
    "for i, s in enumerate(sido_list):\n",
    "    sido_list[i] = s.lstrip('\"')\n",
    "\n",
    "#print(sido_list)\n",
    "\n",
    "sido_set = set(sido_list)\n",
    "\n",
    "for i in sido_set:\n",
    "    print(i, sido_list.count(i))"
   ]
  }
 ],
 "metadata": {
  "kernelspec": {
   "display_name": "Python 3 (ipykernel)",
   "language": "python",
   "name": "python3"
  },
  "language_info": {
   "codemirror_mode": {
    "name": "ipython",
    "version": 3
   },
   "file_extension": ".py",
   "mimetype": "text/x-python",
   "name": "python",
   "nbconvert_exporter": "python",
   "pygments_lexer": "ipython3",
   "version": "3.10.9"
  }
 },
 "nbformat": 4,
 "nbformat_minor": 5
}
