{
 "cells": [
  {
   "cell_type": "code",
   "execution_count": 4,
   "id": "f0141056",
   "metadata": {},
   "outputs": [],
   "source": [
    "import requests\n",
    "import numpy as np\n",
    "\n",
    "x = requests.get('https://archive.ics.uci.edu/ml/machine-learning-databases/iris/iris.data')"
   ]
  },
  {
   "cell_type": "code",
   "execution_count": 26,
   "id": "06e69478",
   "metadata": {},
   "outputs": [],
   "source": [
    "raw_data = []\n",
    "for line in x.text.split('\\n'):\n",
    "    raw_data.append(line.split(','))\n",
    "    \n",
    "for sample in raw_data:\n",
    "    if len(sample) < 1:\n",
    "        continue\n",
    "    for i, value in enumerate(sample[:4]):\n",
    "        try:\n",
    "            sample[i] = float(value)\n",
    "        except:\n",
    "            sample[i] = 0.0"
   ]
  },
  {
   "cell_type": "code",
   "execution_count": 22,
   "id": "34c0ec27",
   "metadata": {
    "scrolled": true
   },
   "outputs": [
    {
     "name": "stdout",
     "output_type": "stream",
     "text": [
      "[[5.1, 3.5, 1.4, 0.2, 'Iris-setosa'], [4.9, 3.0, 1.4, 0.2, 'Iris-setosa'], [4.7, 3.2, 1.3, 0.2, 'Iris-setosa']]\n"
     ]
    }
   ],
   "source": [
    "print(raw_data[:3])"
   ]
  },
  {
   "cell_type": "markdown",
   "id": "eeb51148",
   "metadata": {},
   "source": [
    "### 문자열 --> 숫자\n",
    "* Iris-setosa --> 0\n",
    "* Iris-versicolor --> 1\n",
    "* Iris-virginica --> 2"
   ]
  },
  {
   "cell_type": "code",
   "execution_count": 28,
   "id": "319137b7",
   "metadata": {},
   "outputs": [
    {
     "ename": "TypeError",
     "evalue": "argument of type 'float' is not iterable",
     "output_type": "error",
     "traceback": [
      "\u001b[1;31m---------------------------------------------------------------------------\u001b[0m",
      "\u001b[1;31mTypeError\u001b[0m                                 Traceback (most recent call last)",
      "Cell \u001b[1;32mIn[28], line 12\u001b[0m\n\u001b[0;32m     10\u001b[0m \u001b[38;5;28;01mif\u001b[39;00m \u001b[38;5;28mlen\u001b[39m(sample) \u001b[38;5;241m<\u001b[39m \u001b[38;5;241m2\u001b[39m:\n\u001b[0;32m     11\u001b[0m     \u001b[38;5;28;01mcontinue\u001b[39;00m\n\u001b[1;32m---> 12\u001b[0m \u001b[38;5;28;01mif\u001b[39;00m \u001b[38;5;124;43m'\u001b[39;49m\u001b[38;5;124;43msetosa\u001b[39;49m\u001b[38;5;124;43m'\u001b[39;49m\u001b[43m \u001b[49m\u001b[38;5;129;43;01min\u001b[39;49;00m\u001b[43m \u001b[49m\u001b[43msample\u001b[49m\u001b[43m[\u001b[49m\u001b[38;5;241;43m-\u001b[39;49m\u001b[38;5;241;43m1\u001b[39;49m\u001b[43m]\u001b[49m:\n\u001b[0;32m     13\u001b[0m     sample[\u001b[38;5;241m-\u001b[39m\u001b[38;5;241m1\u001b[39m] \u001b[38;5;241m=\u001b[39m \u001b[38;5;241m0.0\u001b[39m\n\u001b[0;32m     14\u001b[0m \u001b[38;5;28;01melif\u001b[39;00m \u001b[38;5;124m'\u001b[39m\u001b[38;5;124mversicolor\u001b[39m\u001b[38;5;124m'\u001b[39m \u001b[38;5;129;01min\u001b[39;00m sample[\u001b[38;5;241m-\u001b[39m\u001b[38;5;241m1\u001b[39m]:\n",
      "\u001b[1;31mTypeError\u001b[0m: argument of type 'float' is not iterable"
     ]
    }
   ],
   "source": [
    "for sample in raw_data:\n",
    "    if len(sample) < 2:\n",
    "        continue\n",
    "    if 'setosa' in sample[-1]:\n",
    "        sample[-1] = 0.0\n",
    "    elif 'versicolor' in sample[-1]:\n",
    "        sample[-1] = 1.0\n",
    "    elif 'virginica' in sample[-1]:\n",
    "        sample[-1] = 2.0\n",
    "        \n",
    "print(raw_data[0])\n",
    "print(raw_data[51])\n",
    "print(raw_data[101])"
   ]
  },
  {
   "cell_type": "code",
   "execution_count": 33,
   "id": "7ca0c1aa",
   "metadata": {
    "scrolled": true
   },
   "outputs": [
    {
     "name": "stdout",
     "output_type": "stream",
     "text": [
      "150\n",
      "150\n"
     ]
    }
   ],
   "source": [
    "#print(raw_data[-3:])\n",
    "print(len(raw_data))\n",
    "raw_data = raw_data[:150]\n",
    "print(len(raw_data))"
   ]
  },
  {
   "cell_type": "code",
   "execution_count": 34,
   "id": "68172951",
   "metadata": {},
   "outputs": [
    {
     "data": {
      "text/plain": [
       "array([[5.1, 3.5, 1.4, 0.2, 0. ],\n",
       "       [4.9, 3. , 1.4, 0.2, 0. ],\n",
       "       [4.7, 3.2, 1.3, 0.2, 0. ]])"
      ]
     },
     "execution_count": 34,
     "metadata": {},
     "output_type": "execute_result"
    }
   ],
   "source": [
    "np_data = np.array(raw_data)\n",
    "np_data.shape\n",
    "np_data[:3]"
   ]
  },
  {
   "cell_type": "markdown",
   "id": "fffe0495",
   "metadata": {},
   "source": [
    "### 기본 통계값\n",
    "* 전체(150샘플) 평균, 표준편차 - sepal length, sepal width, petal length, petal width\n",
    "* 품종별(50개씩) 평균, 표준편차\n",
    "\n",
    "* 평균 np.mean()\n",
    "* 표준편차 np.std()"
   ]
  },
  {
   "cell_type": "code",
   "execution_count": 59,
   "id": "f5a67b03",
   "metadata": {},
   "outputs": [
    {
     "name": "stdout",
     "output_type": "stream",
     "text": [
      "[5.84333333 3.054      3.75866667 1.19866667 1.        ]\n",
      "[0.82530129 0.43214658 1.75852918 0.76061262 0.81649658]\n",
      "[[ 1.         -0.10936925  0.87175416  0.81795363  0.78256123]\n",
      " [-0.10936925  1.         -0.4205161  -0.35654409 -0.4194462 ]\n",
      " [ 0.87175416 -0.4205161   1.          0.9627571   0.94904254]\n",
      " [ 0.81795363 -0.35654409  0.9627571   1.          0.95646382]\n",
      " [ 0.78256123 -0.4194462   0.94904254  0.95646382  1.        ]]\n"
     ]
    }
   ],
   "source": [
    "#print('average of sepal length : ', np_data[:, 0].mean())\n",
    "#print('Standard Deviation of sepal length : ', np_data[:, 0].std())\n",
    "#print('\\naverage of sepal width : ', np_data[:, 1].mean())\n",
    "#print('Standard Deviation of sepal width : ', np_data[:, 1].std())\n",
    "#print('\\naverage of petal length : ', np_data[:, 2].mean())\n",
    "#print('Standard Deviation of petal length : ', np_data[:, 2].std())\n",
    "#print('\\naverage of petal width : ', np_data[:, 3].mean())\n",
    "#print('Standard Deviation of petal width : ', np_data[:, 3].std())\n",
    "\n",
    "print(np.mean(np_data, axis = 0))\n",
    "print(np.std(np_data, axis = 0))\n",
    "print(np.corrcoef(np_data.T))"
   ]
  },
  {
   "cell_type": "code",
   "execution_count": 61,
   "id": "f6b72be8",
   "metadata": {},
   "outputs": [
    {
     "data": {
      "text/plain": [
       "array([6.588, 2.974, 5.552, 2.026, 2.   ])"
      ]
     },
     "execution_count": 61,
     "metadata": {},
     "output_type": "execute_result"
    }
   ],
   "source": [
    "filter_setosa = np_data[:, -1] == 0.0\n",
    "filter_versicolor = np_data[:, -1] == 1.0\n",
    "filter_virginica = np_data[:, -1] == 2.0\n",
    "\n",
    "np.mean(np_data[filter_setosa], axis = 0)\n",
    "np.std(np_data[filter_setosa], axis = 0)\n",
    "np.mean(np_data[filter_versicolor], axis = 0)\n",
    "np.std(np_data[filter_versicolor], axis = 0)\n",
    "np.mean(np_data[filter_virginica], axis = 0)\n",
    "np.std(np_data[filter_virginica], axis = 0)"
   ]
  }
 ],
 "metadata": {
  "kernelspec": {
   "display_name": "Python 3 (ipykernel)",
   "language": "python",
   "name": "python3"
  },
  "language_info": {
   "codemirror_mode": {
    "name": "ipython",
    "version": 3
   },
   "file_extension": ".py",
   "mimetype": "text/x-python",
   "name": "python",
   "nbconvert_exporter": "python",
   "pygments_lexer": "ipython3",
   "version": "3.10.9"
  }
 },
 "nbformat": 4,
 "nbformat_minor": 5
}
