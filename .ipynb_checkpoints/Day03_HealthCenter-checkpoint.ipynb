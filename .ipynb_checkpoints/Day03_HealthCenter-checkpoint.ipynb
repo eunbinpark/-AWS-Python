{
 "cells": [
  {
   "cell_type": "code",
   "execution_count": 2,
   "id": "f6b5dcdf",
   "metadata": {},
   "outputs": [],
   "source": [
    "data_list = []\n",
    "with open('전국건강증진센터표준데이터.csv') as f:\n",
    "    for line in f:\n",
    "        data_list.append(line.split(','))\n",
    "\n",
    "data_list = data_list[1:]"
   ]
  },
  {
   "cell_type": "code",
   "execution_count": 3,
   "id": "a01c0562",
   "metadata": {},
   "outputs": [
    {
     "name": "stdout",
     "output_type": "stream",
     "text": [
      "대전광역시 10\n",
      "세종특별자치시 1\n",
      "충청북도 12\n",
      "경북 1\n",
      "부산광역시 18\n",
      "경기도 65\n",
      "강원도 16\n",
      "광주광역시 11\n",
      "인천광역시 15\n",
      "전라북도 14\n",
      "전라남도 20\n",
      "충청남도 16\n",
      "서울특별시 26\n",
      "제주특별자치도 10\n",
      "경상북도 21\n",
      "울산광역시 7\n",
      "대구광역시 8\n",
      "경상남도 20\n"
     ]
    }
   ],
   "source": [
    "sido_list = []\n",
    "for i in data_list:\n",
    "    if len(i[2]) > 0:\n",
    "        sido_list.append(i[2].split()[0])\n",
    "\n",
    "#for n in sido_list:\n",
    "#    if n[0] == '\"':\n",
    "#        print(n[1:])\n",
    "#    else:\n",
    "#        print(n)\n",
    "        \n",
    "for i, s in enumerate(sido_list):\n",
    "    sido_list[i] = s.lstrip('\"')\n",
    "\n",
    "#print(sido_list)\n",
    "\n",
    "sido_set = set(sido_list)\n",
    "\n",
    "for i in sido_set:\n",
    "    print(i, sido_list.count(i))"
   ]
  },
  {
   "cell_type": "code",
   "execution_count": 6,
   "id": "7adbdd63",
   "metadata": {},
   "outputs": [
    {
     "data": {
      "text/plain": [
       "{'세종특별자치시': 1,\n",
       " '경북': 1,\n",
       " '울산광역시': 7,\n",
       " '대구광역시': 8,\n",
       " '대전광역시': 10,\n",
       " '제주특별자치도': 10,\n",
       " '광주광역시': 11,\n",
       " '충청북도': 12,\n",
       " '전라북도': 14,\n",
       " '인천광역시': 15,\n",
       " '강원도': 16,\n",
       " '충청남도': 16,\n",
       " '부산광역시': 18,\n",
       " '전라남도': 20,\n",
       " '경상남도': 20,\n",
       " '경상북도': 21,\n",
       " '서울특별시': 26,\n",
       " '경기도': 65}"
      ]
     },
     "execution_count": 6,
     "metadata": {},
     "output_type": "execute_result"
    }
   ],
   "source": [
    "# 빈도수 dictionary 반환\n",
    "# 1. raw_list를 셋으로 변환\n",
    "# 2. 셋을 순환하면서, 각각 몇개씩 raw_list에 있는지 카운트\n",
    "# 3. 1, 2에서 얻은 key, value 값으로 dictionay 만들어 return\n",
    "def sort_key(x):\n",
    "    return x[1]\n",
    "\n",
    "def unique_count(raw_list, sort = False):\n",
    "    raw_set = set(raw_list)\n",
    "    k_list = []\n",
    "    v_list = []\n",
    "    for i in raw_set:\n",
    "        k_list.append(i)\n",
    "        v_list.append(raw_list.count(i))\n",
    "    ret_dict = dict(zip(k_list, v_list))\n",
    "    if sort == True:\n",
    "        #ret_dict = dict(sorted(ret_dict.items(), key = lambda x: x[1]))\n",
    "        ret_dict = dict(sorted(ret_dict.items(), key = sort_key))\n",
    "    return ret_dict\n",
    "\n",
    "unique_count(sido_list, sort = True)"
   ]
  }
 ],
 "metadata": {
  "kernelspec": {
   "display_name": "Python 3 (ipykernel)",
   "language": "python",
   "name": "python3"
  },
  "language_info": {
   "codemirror_mode": {
    "name": "ipython",
    "version": 3
   },
   "file_extension": ".py",
   "mimetype": "text/x-python",
   "name": "python",
   "nbconvert_exporter": "python",
   "pygments_lexer": "ipython3",
   "version": "3.10.9"
  }
 },
 "nbformat": 4,
 "nbformat_minor": 5
}
