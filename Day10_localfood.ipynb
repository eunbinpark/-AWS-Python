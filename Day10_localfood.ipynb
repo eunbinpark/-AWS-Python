{
 "cells": [
  {
   "cell_type": "markdown",
   "id": "74be172e",
   "metadata": {},
   "source": [
    "### 전국 로컬 푸드 인증정보 표준 테이터\n",
    "\n",
    "url : https://www.data.go.kr/data/15025455/standard.do\n",
    "\n",
    "    - csv 파일 수동 다운로드하여 작업\n",
    "    - ndarray 사용가능 (문자열 데이터 타입)\n",
    "\n",
    "* 품목명 top 10(품목별 카운트)\n",
    "   - 다중품목(+ 또는 , 로 연결)은 각각 분리\n",
    "   - 이외 단일품목으로 취급\n",
    "   - 나머지는 알아서 ex) 파(실파 + 대파) --> 파 또는 [실파, 대파]\n",
    "* 주소 공란 : 옆칸 조회해서 메꾸기\n",
    "* dictionary 작성 : {군단위 지역명 : [품목명]}, 군단위 지역명 또는 기관명\n",
    "* dictionary 작성 : {품목 : [군단위 지역명]}\n",
    "\n",
    "* jupyter note 업로드 : 이름_로컬푸드.ipynb\n",
    "  \n",
    "  192.168.2.101:8080/upload"
   ]
  },
  {
   "cell_type": "code",
   "execution_count": 3,
   "id": "963f241c",
   "metadata": {},
   "outputs": [],
   "source": [
    "import numpy as np\n",
    "import math\n",
    "\n",
    "def my_split(s):\n",
    "    block_start = False\n",
    "    start_index = 0\n",
    "    ret_list=[]\n",
    "    for i, c in enumerate(s):\n",
    "        if block_start==False:\n",
    "            if c==',':\n",
    "                ret_list.append(s[start_index:i])\n",
    "                start_index=i+1\n",
    "            elif c=='\"':\n",
    "                block_start=True\n",
    "                start_index = i\n",
    "        else:\n",
    "            if c=='\"':\n",
    "                block_start=False\n",
    "    if s[-1]!=',':\n",
    "        ret_list.append(s[start_index:])\n",
    "    return ret_list\n",
    "\n",
    "def split_len(data_list):\n",
    "    len_list = []\n",
    "    for e in data_list:\n",
    "        len_list.append(len(e))\n",
    "    print(set(len_list))\n",
    "    if len(set(len_list)) > 1:\n",
    "        for i in set(len_list):\n",
    "            print(i,len_list.count(i))"
   ]
  },
  {
   "cell_type": "code",
   "execution_count": 7,
   "id": "4e5e18c7",
   "metadata": {
    "scrolled": true
   },
   "outputs": [
    {
     "name": "stdout",
     "output_type": "stream",
     "text": [
      "{19}\n",
      "18\n"
     ]
    }
   ],
   "source": [
    "csv_data = []\n",
    "with open('전국로컬푸드인증정보표준데이터.csv') as f:\n",
    "    for line in f:\n",
    "        csv_data.append(my_split(line))\n",
    "split_len(csv_data)\n",
    "local_index = csv_data[0].index('제공기관명\\n')\n",
    "print(local_index)"
   ]
  },
  {
   "cell_type": "code",
   "execution_count": 9,
   "id": "c5d78b7a",
   "metadata": {},
   "outputs": [
    {
     "name": "stdout",
     "output_type": "stream",
     "text": [
      "['제공기관명\\n', '경상남도 함양군\\n', '경상남도 함양군\\n']\n"
     ]
    }
   ],
   "source": [
    "local_list = []\n",
    "for e in csv_data:\n",
    "    local_list.append(e[local_index])\n",
    "    \n",
    "print(local_list[:3])"
   ]
  }
 ],
 "metadata": {
  "kernelspec": {
   "display_name": "Python 3 (ipykernel)",
   "language": "python",
   "name": "python3"
  },
  "language_info": {
   "codemirror_mode": {
    "name": "ipython",
    "version": 3
   },
   "file_extension": ".py",
   "mimetype": "text/x-python",
   "name": "python",
   "nbconvert_exporter": "python",
   "pygments_lexer": "ipython3",
   "version": "3.10.9"
  }
 },
 "nbformat": 4,
 "nbformat_minor": 5
}
