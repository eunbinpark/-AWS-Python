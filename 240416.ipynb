{
 "cells": [
  {
   "cell_type": "code",
   "execution_count": 2,
   "id": "860a5c08-a050-4385-83a6-65d37c6a3535",
   "metadata": {},
   "outputs": [
    {
     "name": "stdout",
     "output_type": "stream",
     "text": [
      "Google 검색 결과:\n"
     ]
    }
   ],
   "source": [
    "import requests\n",
    "from bs4 import BeautifulSoup\n",
    "\n",
    "def get_google_results(query, num_results=10):\n",
    "    url = f\"https://www.google.com/search?q={query}\"\n",
    "    headers = {\"User-Agent\": \"Mozilla/5.0 (Windows NT 10.0; Win64; x64) AppleWebKit/537.36 (KHTML, like Gecko) Chrome/58.0.3029.110 Safari/537.3\"}\n",
    "    response = requests.get(url, headers=headers)\n",
    "    \n",
    "    if response.status_code == 200:\n",
    "        soup = BeautifulSoup(response.text, \"html.parser\")\n",
    "        results = soup.find_all(\"h3\", class_=\"LC20lb\")[:num_results]\n",
    "        return [result.get_text() for result in results]\n",
    "    else:\n",
    "        print(\"Failed to retrieve Google search results.\")\n",
    "        return []\n",
    "\n",
    "search_query = \"한글\"\n",
    "num_results = 20\n",
    "search_results = get_google_results(search_query, num_results)\n",
    "\n",
    "print(\"Google 검색 결과:\")\n",
    "for idx, result in enumerate(search_results, start=1):\n",
    "    print(f\"{idx}. {result}\")"
   ]
  },
  {
   "cell_type": "code",
   "execution_count": 10,
   "id": "81570f49-06b5-42b3-b3e2-b20cd22d0599",
   "metadata": {},
   "outputs": [
    {
     "name": "stdout",
     "output_type": "stream",
     "text": [
      "Google 검색 결과:\n",
      "1. 다운로드\n",
      "2. 한컴독스 - 한글과컴퓨터ㅣ구독형 한컴오피스\n",
      "3. 한글\n",
      "4. 폴라리스 오피스 웹 - 브라우저에서 무료로 사용하는 한글, 시트 ...\n",
      "5. 한컴오피스 Web\n",
      "6. 한글 - 위키백과, 우리 모두의 백과사전\n",
      "7. 한컴오피스 설치 하기\n",
      "8. 한컴오피스 한글\n",
      "9. 한컴타자 – 한글과컴퓨터의 한글 타자 연습\n",
      "10. 한글 뷰어 다운로드\n",
      "11. 결과 더보기\n",
      "12. \n",
      "13. 이미지\n",
      "14. 설명\n"
     ]
    }
   ],
   "source": [
    "from selenium import webdriver\n",
    "from selenium.webdriver.chrome.service import Service\n",
    "from selenium.webdriver.common.by import By\n",
    "from selenium.webdriver.chrome.options import Options\n",
    "import time\n",
    "\n",
    "def get_google_results(query, num_results=10):\n",
    "    # Chrome WebDriver 경로 설정\n",
    "    chrome_driver_path = \"C:\\\\Users\\\\eunbin\\\\Desktop\\\\EUNBIN\\\\git\\\\Python\\\\chromedriver.exe\"\n",
    "\n",
    "    # Chrome 옵션 설정\n",
    "    chrome_options = Options()\n",
    "    chrome_options.add_argument(\"--headless\")  # 브라우저가 실제로 표시되지 않도록 설정\n",
    "\n",
    "    # WebDriver 생성\n",
    "    service = Service(chrome_driver_path)\n",
    "    driver = webdriver.Chrome(service=service, options=chrome_options)\n",
    "\n",
    "    # Google 검색 실행\n",
    "    driver.get(f\"https://www.google.com/search?q={query}\")\n",
    "    time.sleep(2)  # 페이지 로딩을 위한 대기 시간\n",
    "\n",
    "    # 검색 결과 추출\n",
    "    results = driver.find_elements(By.CSS_SELECTOR, \"h3\")\n",
    "    search_results = [result.text for result in results[:num_results]]\n",
    "\n",
    "    # WebDriver 종료\n",
    "    driver.quit()\n",
    "\n",
    "    return search_results\n",
    "\n",
    "search_query = \"한글\"\n",
    "num_results = 20\n",
    "search_results = get_google_results(search_query, num_results)\n",
    "\n",
    "print(\"Google 검색 결과:\")\n",
    "for idx, result in enumerate(search_results, start=1):\n",
    "    print(f\"{idx}. {result}\")"
   ]
  },
  {
   "cell_type": "code",
   "execution_count": 18,
   "id": "8e6b634f-78bd-43aa-a0f0-4d6e0a013d0a",
   "metadata": {},
   "outputs": [],
   "source": [
    "# selenium의 webdriver를 사용하기 위한 import\n",
    "from selenium import webdriver\n",
    "\n",
    "# selenium으로 키를 조작하기 위한 import\n",
    "from selenium.webdriver.common.keys import Keys\n",
    "\n",
    "# 페이지 로딩을 기다리는데에 사용할 time 모듈 import\n",
    "import time\n",
    "\n",
    "# 크롬드라이버 실행\n",
    "driver = webdriver.Chrome() \n",
    "\n",
    "#크롬 드라이버에 url 주소 넣고 실행\n",
    "driver.get('https://www.google.co.kr/')\n",
    "\n",
    "# 페이지가 완전히 로딩되도록 3초동안 기다림\n",
    "# time.sleep(3)\n",
    "\n",
    "# 검색어 창을 찾아 search 변수에 저장 (By.CLASS_NAME 방식)\n",
    "search_box = driver.find_element(By.CLASS_NAME, 'gLFyf')\n",
    "\n",
    "search_box.send_keys('파이썬')\n",
    "search_box.send_keys(Keys.RETURN)\n",
    "# time.sleep(1)"
   ]
  },
  {
   "cell_type": "code",
   "execution_count": 22,
   "id": "b677d938-9f6b-4c6b-bdca-162b2bf57024",
   "metadata": {},
   "outputs": [
    {
     "name": "stdin",
     "output_type": "stream",
     "text": [
      "검색할 키워드를 입력하세요:  파이썬\n"
     ]
    },
    {
     "ename": "AttributeError",
     "evalue": "'WebDriver' object has no attribute 'find_element_by_xpath'",
     "output_type": "error",
     "traceback": [
      "\u001b[1;31m---------------------------------------------------------------------------\u001b[0m",
      "\u001b[1;31mAttributeError\u001b[0m                            Traceback (most recent call last)",
      "Cell \u001b[1;32mIn[22], line 33\u001b[0m\n\u001b[0;32m     30\u001b[0m time\u001b[38;5;241m.\u001b[39msleep(\u001b[38;5;241m2\u001b[39m)\n\u001b[0;32m     32\u001b[0m \u001b[38;5;66;03m#step5.뉴스 탭 클릭\u001b[39;00m\n\u001b[1;32m---> 33\u001b[0m \u001b[43mdriver\u001b[49m\u001b[38;5;241;43m.\u001b[39;49m\u001b[43mfind_element_by_xpath\u001b[49m(\u001b[38;5;124m'\u001b[39m\u001b[38;5;124m//*[@id=\u001b[39m\u001b[38;5;124m\"\u001b[39m\u001b[38;5;124mlnb\u001b[39m\u001b[38;5;124m\"\u001b[39m\u001b[38;5;124m]/div[1]/div/ul/li[2]/a\u001b[39m\u001b[38;5;124m'\u001b[39m)\u001b[38;5;241m.\u001b[39mclick()\n\u001b[0;32m     34\u001b[0m time\u001b[38;5;241m.\u001b[39msleep(\u001b[38;5;241m2\u001b[39m)\n",
      "\u001b[1;31mAttributeError\u001b[0m: 'WebDriver' object has no attribute 'find_element_by_xpath'"
     ]
    }
   ],
   "source": [
    "#step1.selenium 패키지와 time 모듈 import\n",
    "from selenium import webdriver\n",
    "from selenium.webdriver.common.keys import Keys\n",
    "from selenium.webdriver.common.by import By\n",
    "import time\n",
    "\n",
    "from selenium.webdriver.chrome.options import Options\n",
    "\n",
    "# Chrome 옵션 설정\n",
    "chrome_options = Options()\n",
    "# 필요한 옵션 추가\n",
    "\n",
    "#step2.검색할 키워드 입력\n",
    "query = input('검색할 키워드를 입력하세요: ')\n",
    "\n",
    "#step3.크롬드라이버로 원하는 url로 접속\n",
    "url = 'https://www.naver.com/'\n",
    "# driver = webdriver.Chrome('/Users/sangwoo/Desktop/chromedriver')\n",
    "\n",
    "# WebDriver 생성\n",
    "driver = webdriver.Chrome(options=chrome_options)\n",
    "\n",
    "driver.get(url)\n",
    "time.sleep(3)\n",
    "\n",
    "#step4.검색창에 키워드 입력 후 엔터\n",
    "search_box = driver.find_element(By.ID, \"query\")\n",
    "search_box.send_keys(query)\n",
    "search_box.send_keys(Keys.RETURN)\n",
    "time.sleep(2)\n",
    "\n",
    "#step5.뉴스 탭 클릭\n",
    "driver.find_element_by_xpath('//*[@id=\"lnb\"]/div[1]/div/ul/li[2]/a').click()\n",
    "time.sleep(2)\n"
   ]
  }
 ],
 "metadata": {
  "kernelspec": {
   "display_name": "Python 3 (ipykernel)",
   "language": "python",
   "name": "python3"
  },
  "language_info": {
   "codemirror_mode": {
    "name": "ipython",
    "version": 3
   },
   "file_extension": ".py",
   "mimetype": "text/x-python",
   "name": "python",
   "nbconvert_exporter": "python",
   "pygments_lexer": "ipython3",
   "version": "3.12.2"
  }
 },
 "nbformat": 4,
 "nbformat_minor": 5
}
