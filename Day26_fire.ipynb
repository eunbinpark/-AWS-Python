{
 "cells": [
  {
   "cell_type": "markdown",
   "id": "0b05960a",
   "metadata": {},
   "source": [
    "### 시도별 화재발생 현황 총괄\n",
    "* 시점에 따른 행정구역별 사망자 추이, 부상자 추이(선 그래프)\n",
    "* 행정구역별 전체 재산피해 비교\n",
    "* 행정구역별 부동산, 동산 피해 비교"
   ]
  },
  {
   "cell_type": "code",
   "execution_count": 5,
   "id": "8745cf95",
   "metadata": {
    "scrolled": true
   },
   "outputs": [
    {
     "name": "stdout",
     "output_type": "stream",
     "text": [
      "       행정구역별    시점  건수 (건) 사망 (명)  부상 (명)  재산피해(계) (천원)   부동산 (천원)    동산 (천원)  \\\n",
      "0         전국  2010   41863    304    1588     266776332  117808118  148968214   \n",
      "1         전국  2011   43875    263    1599     256547614  113257928  143289686   \n",
      "2         전국  2012   43249    267    1955     289493719  127500018  161993701   \n",
      "3         전국  2013   40932    307    1877     434462330  178812680  255649650   \n",
      "4         전국  2014   42135    325    1856     405356513  168824616  236531897   \n",
      "..       ...   ...     ...    ...     ...           ...        ...        ...   \n",
      "209  제주특별자치도  2017     751      5      19       3944602    2022493    1922109   \n",
      "210  제주특별자치도  2018     636      4      23       3956895    1199603    2757292   \n",
      "211  제주특별자치도  2019     607      3      33       2998401    1088297    1910104   \n",
      "212  제주특별자치도  2020     515     12      14       4905209    1964304    2940905   \n",
      "213  제주특별자치도  2021     544      3      19       6795271    2982411    3812860   \n",
      "\n",
      "     이재가구수 (가구)  이재민수 (명)  \n",
      "0          1183      2623  \n",
      "1          1158      2417  \n",
      "2          1062      2254  \n",
      "3          1354      2330  \n",
      "4          1178      2374  \n",
      "..          ...       ...  \n",
      "209           9        15  \n",
      "210           5         8  \n",
      "211           6        15  \n",
      "212           8        15  \n",
      "213          13        21  \n",
      "\n",
      "[214 rows x 10 columns]\n"
     ]
    }
   ],
   "source": [
    "import seaborn as sns\n",
    "import numpy as np\n",
    "import pandas as pd\n",
    "import matplotlib.pyplot as plt\n",
    "import matplotlib\n",
    "\n",
    "current_font_list= matplotlib.rcParams['font.family']\n",
    "\n",
    "font_path =\"C:\\Windows\\Fonts\\GULIM.TTC\"\n",
    "kfont = matplotlib.font_manager.FontProperties(fname= font_path).get_name()\n",
    "matplotlib.rcParams['font.family'] = [kfont] + current_font_list\n",
    "\n",
    "pd_data = pd.read_csv('시도별_화재발생_현황_총괄__20230307153201.csv', encoding='cp949')\n",
    "print(pd_data)"
   ]
  },
  {
   "cell_type": "code",
   "execution_count": 9,
   "id": "5105dfa7",
   "metadata": {},
   "outputs": [
    {
     "name": "stdout",
     "output_type": "stream",
     "text": [
      "<bound method IndexOpsMixin.value_counts of 12       서울특별시\n",
      "13       서울특별시\n",
      "14       서울특별시\n",
      "15       서울특별시\n",
      "16       서울특별시\n",
      "        ...   \n",
      "209    제주특별자치도\n",
      "210    제주특별자치도\n",
      "211    제주특별자치도\n",
      "212    제주특별자치도\n",
      "213    제주특별자치도\n",
      "Name: 행정구역별, Length: 202, dtype: object>\n"
     ]
    }
   ],
   "source": [
    "filter1 = pd_data['행정구역별'] != '전국'\n",
    "s1 = pd_data.loc[filter1, '행정구역별'].value_counts\n",
    "print(s1)\n",
    "g1 = pd_data.groupby('행정구역별')"
   ]
  },
  {
   "cell_type": "code",
   "execution_count": 7,
   "id": "22adf03e",
   "metadata": {
    "scrolled": false
   },
   "outputs": [
    {
     "data": {
      "text/plain": [
       "<seaborn.axisgrid.FacetGrid at 0x2140b3ee920>"
      ]
     },
     "execution_count": 7,
     "metadata": {},
     "output_type": "execute_result"
    },
    {
     "data": {
      "image/png": "[encoded data removed]",
      "text/plain": [
       "<Figure size 500x500 with 1 Axes>"
      ]
     },
     "metadata": {},
     "output_type": "display_data"
    }
   ],
   "source": [
    "sns.relplot(data = pd_data, x = '시점', y = '건수 (건)')"
   ]
  }
 ],
 "metadata": {
  "kernelspec": {
   "display_name": "Python 3 (ipykernel)",
   "language": "python",
   "name": "python3"
  },
  "language_info": {
   "codemirror_mode": {
    "name": "ipython",
    "version": 3
   },
   "file_extension": ".py",
   "mimetype": "text/x-python",
   "name": "python",
   "nbconvert_exporter": "python",
   "pygments_lexer": "ipython3",
   "version": "3.10.9"
  }
 },
 "nbformat": 4,
 "nbformat_minor": 5
}
