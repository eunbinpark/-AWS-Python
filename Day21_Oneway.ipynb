{
 "cells": [
  {
   "cell_type": "markdown",
   "id": "a6ec5681",
   "metadata": {},
   "source": [
    "### 전국일방통행도로표준데이터\n",
    "- 데이터 전처리\n",
    "시도명, 지정사유, 지정연도, 도로폭, 도로차로수, 보차분리여부\n",
    "\n",
    "- 결측치 처리 (column 개별 기준)\n",
    "\n",
    "- 오류치 처리 (unit의 차이)\n",
    "\n",
    "- 이상치 처리 (iqr 사용)\n",
    "\n",
    "- 전처리 내용 정리"
   ]
  },
  {
   "cell_type": "code",
   "execution_count": 23,
   "id": "ad047fc4",
   "metadata": {},
   "outputs": [],
   "source": [
    "import numpy as np\n",
    "import pandas as pd\n",
    "import pickle\n",
    "import matplotlib.pyplot as plt\n",
    "\n",
    "pd_raw = pd.read_csv('전국일방통행도로표준데이터.csv', encoding='cp949')\n",
    "\n",
    "col_selection = ['시도명', '지정사유', '지정연도', '도로폭', '도로차로수', '보차분리여부']\n",
    "pd_data = pd_raw[col_selection]"
   ]
  },
  {
   "cell_type": "code",
   "execution_count": 24,
   "id": "8b68dd26",
   "metadata": {},
   "outputs": [],
   "source": [
    "print(pd_data.shape)\n",
    "print(pd_data.dtypes)\n",
    "for e in pd_data:\n",
    "    print(e, '\\t', pd_data[e].hasnans)"
   ]
  },
  {
   "cell_type": "code",
   "execution_count": 25,
   "id": "caf90f73",
   "metadata": {
    "scrolled": true
   },
   "outputs": [],
   "source": [
    "# 시도명\n",
    "print(pd_data['시도명'].unique())\n",
    "print(pd_data['시도명'].hasnans)\n",
    "\n",
    "# 결측치 : 없음\n",
    "\n",
    "# 오류치 : 10 --> '강원도'\n",
    "#print(pd_raw[pd_raw['시도명'] == '10'])\n",
    "filter1 = pd_raw['시도명'] == '10'\n",
    "pd_data.loc[filter1, '시도명'] = '강원도'\n",
    "\n",
    "# 이상치 : 없음\n",
    "\n",
    "print(pd_data['시도명'].unique())\n",
    "print(pd_data['시도명'].hasnans)"
   ]
  },
  {
   "cell_type": "code",
   "execution_count": 26,
   "id": "5bfabcde",
   "metadata": {
    "scrolled": false
   },
   "outputs": [],
   "source": [
    "# 지정사유\n",
    "print(pd_data['지정사유'].unique())\n",
    "print(pd_data['지정사유'].hasnans)\n",
    "\n",
    "# 결측치 \n",
    "na_filter = pd_data['지정사유'].isna()\n",
    "print(na_filter.value_counts())\n",
    "pd_data.loc[na_filter, '지정사유'] = '불분명'     # pd_data['지정사유'].fillna('불분명')\n",
    "\n",
    "# 오류치 : 같은내용 다른이름 정리\n",
    "def e1(x):\n",
    "    if '원활' in x:\n",
    "        return '원활'\n",
    "    elif '불편' in x:\n",
    "        return '불편'\n",
    "    elif '안전' in x:\n",
    "        return '안전'\n",
    "    elif '혼잡' in x:\n",
    "        return '혼잡'\n",
    "    else :\n",
    "        return x\n",
    "\n",
    "pd_data.loc[:, '지정사유'] = pd_data.loc[:, '지정사유'].apply(e1)\n",
    "\n",
    "# 이상치 : 없음\n",
    "\n",
    "print(pd_data['지정사유'].unique())\n",
    "print(pd_data['지정사유'].hasnans)"
   ]
  },
  {
   "cell_type": "code",
   "execution_count": 27,
   "id": "6a6cedae",
   "metadata": {},
   "outputs": [],
   "source": [
    "# 지정연도\n",
    "print(pd_data['지정연도'].unique())\n",
    "print(pd_data['지정연도'].hasnans)\n",
    "\n",
    "# 결측치 : np.MaM --> 0\n",
    "na_filter = pd_data['지정연도'].isna()\n",
    "print(na_filter.value_counts())\n",
    "pd_data.loc[na_filter, '지정연도'] = 0.0     # pd_data['지정연도'].fillna(0.0)\n",
    "\n",
    "# 오류치 : 없음\n",
    "\n",
    "# 이상치 : 없음\n",
    "\n",
    "print(pd_data['지정연도'].unique())\n",
    "print(pd_data['지정연도'].hasnans)"
   ]
  },
  {
   "cell_type": "code",
   "execution_count": 28,
   "id": "2f7babb9",
   "metadata": {},
   "outputs": [],
   "source": [
    "# 도로폭\n",
    "print(pd_data['도로폭'].unique())\n",
    "print(pd_data['도로폭'].hasnans)\n",
    "\n",
    "# 결측치 : 없음\n",
    "\n",
    "# 오류치 : 없음\n",
    "\n",
    "# 이상치 : upper 보다 큰 값을 np.NaN으로 교체, 후에 dropna() 이용 제거\n",
    "print(pd_data['도로폭'].describe())\n",
    "q1, q3 = pd_data['도로폭'].quantile([0.15, 0.75])\n",
    "iqr = q3 - q1\n",
    "upper = q3 + 1.5 * iqr\n",
    "lower = q1 - 1.5 * iqr\n",
    "print(lower, upper)\n",
    "filter1 = pd_data['도로폭'] > upper\n",
    "print(filter1.value_counts())\n",
    "pd_data.loc[filter1, '도로폭'] = np.NaN\n",
    "\n",
    "print(pd_data['도로폭'].unique())\n",
    "print(pd_data['도로폭'].hasnans)"
   ]
  },
  {
   "cell_type": "code",
   "execution_count": 29,
   "id": "da2c1bf1",
   "metadata": {},
   "outputs": [],
   "source": [
    "# 도로 차로수\n",
    "print(pd_data['도로차로수'].unique())\n",
    "print(pd_data['도로차로수'].hasnans)\n",
    "\n",
    "# 결측치 : 1개 샘플, 후에 dropma() 이용 제거\n",
    "na_filter = pd_data['도로차로수'].isna()\n",
    "print(na_filter.value_counts())\n",
    "\n",
    "# 오류치 : 60 --> np.NaN로 대체, 후에 dropna()이용 제거\n",
    "filter1 = pd_data['도로차로수'] == 60\n",
    "print(filter1.value_counts())\n",
    "pd_data.loc[filter1, '도로차로수'] = np.NaN\n",
    "\n",
    "# 이상치 : 없음\n",
    "\n",
    "print(pd_data['도로차로수'].unique())\n",
    "print(pd_data['도로차로수'].hasnans)"
   ]
  },
  {
   "cell_type": "code",
   "execution_count": 30,
   "id": "a6b6d7f4",
   "metadata": {},
   "outputs": [],
   "source": [
    "# 보차분리여부\n",
    "print(pd_data['보차분리여부'].unique())\n",
    "print(pd_data['보차분리여부'].hasnans)\n",
    "\n",
    "# 결측치 : 1개 ' ' 결측치 --> np.NaN로 대체, 후에 dropna()이용 제거\n",
    "na_filter = pd_data['보차분리여부'] == ' '\n",
    "print(na_filter.value_counts())\n",
    "pd_data.loc[na_filter, '보차분리여부'] = np.NaN\n",
    "\n",
    "# 오류치 : 없음\n",
    "\n",
    "# 이상치 : 없음\n",
    "\n",
    "print(pd_data['보차분리여부'].unique())\n",
    "print(pd_data['보차분리여부'].hasnans)"
   ]
  },
  {
   "cell_type": "code",
   "execution_count": 31,
   "id": "6cc744ef",
   "metadata": {},
   "outputs": [],
   "source": [
    "pd_data_f = pd_data.dropna()\n",
    "print(pd_data.shape)\n",
    "print(pd_data_f.shape)"
   ]
  },
  {
   "cell_type": "code",
   "execution_count": 32,
   "id": "3506df2c",
   "metadata": {},
   "outputs": [],
   "source": [
    "# csv\n",
    "pd_data.to_csv('전국일방통행도로표준데이터_pass1.csv')\n",
    "\n",
    "# pickle\n",
    "with open('전국일방통행도로표준데이터_pass1.pickle', 'wb') as f:\n",
    "    pickle.dump(pd_data, f)"
   ]
  }
 ],
 "metadata": {
  "kernelspec": {
   "display_name": "Python 3 (ipykernel)",
   "language": "python",
   "name": "python3"
  },
  "language_info": {
   "codemirror_mode": {
    "name": "ipython",
    "version": 3
   },
   "file_extension": ".py",
   "mimetype": "text/x-python",
   "name": "python",
   "nbconvert_exporter": "python",
   "pygments_lexer": "ipython3",
   "version": "3.10.9"
  }
 },
 "nbformat": 4,
 "nbformat_minor": 5
}
