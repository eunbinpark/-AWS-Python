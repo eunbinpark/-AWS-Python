{
 "cells": [
  {
   "cell_type": "code",
   "execution_count": 22,
   "id": "681e5150",
   "metadata": {},
   "outputs": [
    {
     "name": "stdout",
     "output_type": "stream",
     "text": [
      "mycalss : 100, def\n",
      "<class '__main__.myclass'>\n",
      "500 def\n"
     ]
    }
   ],
   "source": [
    "class myclass:\n",
    "    myvar1 = 0\n",
    "    myvar2 = 'abc'\n",
    "    \n",
    "    def __init__(self, a = 0, b = 'aaa'):\n",
    "        self.myvar1 = a\n",
    "        self.myvar2 = b\n",
    "    def mymethod1(self, n):\n",
    "        print(self.myvar1 * n, self.myvar2)\n",
    "    def __str__(self):\n",
    "        return 'mycalss : {}, {}'.format(self.myvar1, self.myvar2)\n",
    "\n",
    "a = myclass(100, 'def')\n",
    "print(a)\n",
    "print(type(a))\n",
    "\n",
    "a.mymethod1(5)"
   ]
  },
  {
   "cell_type": "code",
   "execution_count": 23,
   "id": "6cf9ff29",
   "metadata": {},
   "outputs": [
    {
     "name": "stdout",
     "output_type": "stream",
     "text": [
      "0 aaa\n"
     ]
    }
   ],
   "source": [
    "class myclass2(myclass):\n",
    "    pass\n",
    "\n",
    "b = myclass2()\n",
    "b.mymethod1(10)"
   ]
  }
 ],
 "metadata": {
  "kernelspec": {
   "display_name": "Python 3 (ipykernel)",
   "language": "python",
   "name": "python3"
  },
  "language_info": {
   "codemirror_mode": {
    "name": "ipython",
    "version": 3
   },
   "file_extension": ".py",
   "mimetype": "text/x-python",
   "name": "python",
   "nbconvert_exporter": "python",
   "pygments_lexer": "ipython3",
   "version": "3.10.9"
  }
 },
 "nbformat": 4,
 "nbformat_minor": 5
}
