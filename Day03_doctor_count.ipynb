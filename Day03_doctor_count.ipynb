{
 "cells": [
  {
   "cell_type": "code",
   "execution_count": 59,
   "id": "f54c21ba",
   "metadata": {},
   "outputs": [],
   "source": [
    "data_list = []\n",
    "with open('전국건강증진센터표준데이터.csv') as f:\n",
    "    for line in f:\n",
    "        data_list.append(line.split(','))\n",
    "\n",
    "#print(data_list)"
   ]
  },
  {
   "cell_type": "code",
   "execution_count": 46,
   "id": "2f5d973d",
   "metadata": {},
   "outputs": [
    {
     "name": "stdout",
     "output_type": "stream",
     "text": [
      "{24}\n"
     ]
    }
   ],
   "source": [
    "len_list = []\n",
    "for i in data_list:\n",
    "    len_list.append(len(i))\n",
    "print(set(len_list))"
   ]
  },
  {
   "cell_type": "code",
   "execution_count": 50,
   "id": "26b94d1e",
   "metadata": {},
   "outputs": [
    {
     "name": "stdout",
     "output_type": "stream",
     "text": [
      "11\n"
     ]
    }
   ],
   "source": [
    "doctor_index = data_list[0].index('의사수')\n",
    "print(doctor_index)"
   ]
  },
  {
   "cell_type": "code",
   "execution_count": 55,
   "id": "12db9421",
   "metadata": {},
   "outputs": [
    {
     "name": "stdout",
     "output_type": "stream",
     "text": [
      "center count :  291\n",
      "center with no doctor :  166\n"
     ]
    }
   ],
   "source": [
    "doctor_count = []\n",
    "for e in data_list[1:]:\n",
    "    doctor_count.append(e[doctor_index])\n",
    "#print(doctor_count)\n",
    "\n",
    "print('center count : ', len(doctor_count))\n",
    "print('center with no doctor : ', doctor_count.count('0'))"
   ]
  },
  {
   "cell_type": "code",
   "execution_count": 58,
   "id": "8f672569",
   "metadata": {},
   "outputs": [
    {
     "name": "stdout",
     "output_type": "stream",
     "text": [
      "total doctor count :  156\n"
     ]
    }
   ],
   "source": [
    "for i, c in enumerate(doctor_count):\n",
    "    try:\n",
    "        doctor_count[i] = int(c)\n",
    "    except:\n",
    "        doctor_count[i] = 0\n",
    "print('total doctor count : ', sum(doctor_count))"
   ]
  }
 ],
 "metadata": {
  "kernelspec": {
   "display_name": "Python 3 (ipykernel)",
   "language": "python",
   "name": "python3"
  },
  "language_info": {
   "codemirror_mode": {
    "name": "ipython",
    "version": 3
   },
   "file_extension": ".py",
   "mimetype": "text/x-python",
   "name": "python",
   "nbconvert_exporter": "python",
   "pygments_lexer": "ipython3",
   "version": "3.10.9"
  }
 },
 "nbformat": 4,
 "nbformat_minor": 5
}
