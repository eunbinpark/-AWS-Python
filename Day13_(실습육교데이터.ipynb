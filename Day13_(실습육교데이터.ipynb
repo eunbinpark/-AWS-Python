{
 "cells": [
  {
   "cell_type": "code",
   "execution_count": 1,
   "metadata": {},
   "outputs": [],
   "source": [
    "import numpy as np\n",
    "import math\n",
    "\n",
    "def mean(num_list):\n",
    "    return sum(num_list)/len(num_list)\n",
    "\n",
    "def mean_2(num_list):\n",
    "    sum_value = 0\n",
    "    for i in num_list:\n",
    "        sum_value = sum_value + i\n",
    "    return sum_value / len(num_list)\n",
    "\n",
    "\n",
    "def median(num_list):\n",
    "    num_list.sort()\n",
    "    if len(num_list)%2 ==1: \n",
    "\n",
    "        #몫만 가지고 계산할 경우 +1, -1을 굳이 안해줘도 됨 \n",
    "        i = (len(num_list))//2\n",
    "        return num_list[i]\n",
    "    else:\n",
    "        i = len(num_list)//2\n",
    "        return (num_list[i]+ num_list[i-1])/2\n",
    "\n",
    "\n",
    "def mean(number_list):\n",
    "    return sum(number_list)/len(number_list)\n",
    "\n",
    "def dev(num_list): #편차\n",
    "    m= mean(num_list)\n",
    "    return [x-m for x in num_list]\n",
    "\n",
    "def ver(num_list): # 분산 #제곱\n",
    "    n = len(num_list)\n",
    "    d = dev(num_list)\n",
    "    return sum([x*x for x in d])/(n-1)\n",
    "\n",
    "def stdev(num_list): #표준편차\n",
    "    return math.sqrt(ver(num_list))\n",
    "\n",
    "def covar(list_1, list_2): #공분산 #따로 dev를 2개 구해서 짝을 이뤄서 곱해서 나눔 \n",
    "    n = len(list_1)\n",
    "    list_1_dev = dev(list_1)\n",
    "    list_2_dev= dev(list_2)\n",
    "    return sum(x * y for x, y in zip (list_1_dev, list_2_dev))/ (n-1)\n",
    "\n",
    "def corel(list_1, list_2): # 상관도(-1 ~ 1) #상관도 : 두개의 변수의 서로의 상관관계, 영향도를 보여주는 것 \n",
    "    return covar(list_1, list_2)/(stdev(list_1)*stdev(list_2))"
   ]
  },
  {
   "cell_type": "code",
   "execution_count": 3,
   "metadata": {},
   "outputs": [],
   "source": [
    "def my_split(s):\n",
    "    block_start = False\n",
    "    start_index = 0\n",
    "    ret_list=[]\n",
    "    for i, c in enumerate(s):\n",
    "        if block_start==False:\n",
    "            if c==',':\n",
    "                ret_list.append(s[start_index:i])\n",
    "                start_index=i+1\n",
    "            elif c=='\"':\n",
    "                block_start=True\n",
    "                start_index = i\n",
    "        else:\n",
    "            if c=='\"':\n",
    "                block_start=False\n",
    "    if s[-1]!=',':\n",
    "        ret_list.append(s[start_index:])\n",
    "    return ret_list\n",
    "    \n",
    "def split_len(data_list):\n",
    "    len_list = []\n",
    "    for e in data_list:\n",
    "        len_list.append(len(e))\n",
    "    print(set(len_list))\n",
    "    if len (set(len_list))>1:\n",
    "        for i in set(len_list):\n",
    "            print(i, len_list.count(i))\n",
    "    return set(len_list)"
   ]
  },
  {
   "cell_type": "markdown",
   "metadata": {},
   "source": [
    "### 전국육교정보표준 데이터\n",
    "* 제각각 계산시 결측치 있는 샘플은 버림\n",
    "\n",
    "* - 내진설계 된 육교 퍼센트\n",
    "\n",
    "* -  안전등급별 육교 갯수, 비율\n",
    "\n",
    "* - 육교가 만들어진 연도 vs 장애인편의시설 간 상관관계\n",
    "* 연도, 장애인편의시설 갖춘 육교의 갯수/ 해당연동 건설 육교 갯수\n",
    "\n",
    "* 육교연장, 허용통행하중, 통행제한 높이에 대해 최대, 최솟값, 평균, 표준편차, \n",
    "\n",
    "- 길이가 가장긴 육교(육교연장)\n",
    "- 가장 튼튼한 육교 (허용 통행하중)\n",
    "- 가장 높은 육교(통행제한 높이)"
   ]
  },
  {
   "cell_type": "code",
   "execution_count": 11,
   "metadata": {},
   "outputs": [
    {
     "name": "stdout",
     "output_type": "stream",
     "text": [
      "{30}\n",
      "(0, '육교명')\n",
      "(1, '도로종류')\n",
      "(2, '도로노선번호')\n",
      "(3, '도로노선명')\n",
      "(4, '소재지도로명주소')\n",
      "(5, '위도')\n",
      "(6, '경도')\n",
      "(7, '육교연장')\n",
      "(8, '육교높이')\n",
      "(9, '허용통행하중')\n",
      "(10, '통행제한높이')\n",
      "(11, '육교폭')\n",
      "(12, '난간높이')\n",
      "(13, '조명개수')\n",
      "(14, '장애인편의시설설치여부')\n",
      "(15, '장애인편의시설종류')\n",
      "(16, '장애인편의시설수량')\n",
      "(17, '부대시설종류')\n",
      "(18, '부대시설수량')\n",
      "(19, '육교준공일자')\n",
      "(20, '내진설계적용여부')\n",
      "(21, '안전등급')\n",
      "(22, '사용제한구분')\n",
      "(23, '육교보수보강내역')\n",
      "(24, '최종안전점검유형')\n",
      "(25, '최종안전점검일자')\n",
      "(26, '관리기관명')\n",
      "(27, '데이터기준일자')\n",
      "(28, '제공기관코드')\n",
      "(29, '제공기관명')\n"
     ]
    }
   ],
   "source": [
    "csv_data = []\n",
    "with open ('전국육교정보표준데이터.csv') as f:\n",
    "    for line in f:\n",
    "        csv_data.append(my_split(line[:-1]))\n",
    "\n",
    "assert len(split_len(csv_data)) == 1\n",
    "\n",
    "np_data = np.array(csv_data)\n",
    "for e in enumerate(np_data[0]):\n",
    "    print(e)"
   ]
  },
  {
   "cell_type": "code",
   "execution_count": 14,
   "metadata": {},
   "outputs": [
    {
     "name": "stdout",
     "output_type": "stream",
     "text": [
      "[['육교명' '도로종류' '도로노선번호' '도로노선명' '소재지도로명주소' '위도' '경도' '육교연장' '육교높이'\n",
      "  '허용통행하중' '통행제한높이' '육교폭' '난간높이' '조명개수' '장애인편의시설설치여부' '장애인편의시설종류'\n",
      "  '장애인편의시설수량' '부대시설종류' '부대시설수량' '육교준공일자' '내진설계적용여부' '안전등급' '사용제한구분'\n",
      "  '육교보수보강내역' '최종안전점검유형' '최종안전점검일자' '관리기관명' '데이터기준일자' '제공기관코드' '제공기관명']\n",
      " ['우신초교 앞 보도육교' '시도' '147' '신길로' '서울특별시 영등포구 신길로 190' '37.509263'\n",
      "  '126.910801' '23' '4.7' '' '4.5' '3.4' '1' '8' 'Y' '점자블록+핸드레일 촉지판' '24'\n",
      "  '' '' '1980-09-18' ' ' '보통' '제한없음' '' '정기점검' '2022-04-16' '서울특별시 영등포구청'\n",
      "  '2022-07-04' '3180000' '서울특별시 영등포구']\n",
      " ['영등포역 횡단 보도육교' '기타' '없음' '경인선' '서울특별시 영등포구 경인로94길 7' '37.513895'\n",
      "  '126.903695' '83' '' '0.5' '5.6' '3.2' '1.8' '14' 'Y' '엘리베이터' '' '' ''\n",
      "  '1974-12-01' ' ' '보통' '제한없음' '' '정기점검' '2022-04-16' '서울특별시 영등포구청'\n",
      "  '2022-07-04' '3180000' '서울특별시 영등포구']]\n"
     ]
    }
   ],
   "source": [
    "print(np_data[:3])"
   ]
  },
  {
   "cell_type": "code",
   "execution_count": 19,
   "metadata": {},
   "outputs": [
    {
     "name": "stdout",
     "output_type": "stream",
     "text": [
      "[' ' 'N' 'Y']\n",
      "[357 695 166]\n",
      "[29.31034483 57.06075534 13.62889984]\n"
     ]
    }
   ],
   "source": [
    "btypes = np_data[1:, 20]\n",
    "#print[btypes[:3]]\n",
    "btype_name, btype_count = np.unique(btypes, return_counts=True)\n",
    "print(btype_name)\n",
    "print(btype_count)\n",
    "print(btype_count*100/ sum(btype_count))\n",
    "\n"
   ]
  },
  {
   "cell_type": "code",
   "execution_count": 23,
   "metadata": {},
   "outputs": [
    {
     "name": "stdout",
     "output_type": "stream",
     "text": [
      "19.279907084785133\n"
     ]
    }
   ],
   "source": [
    "\n",
    "a = btype_count[2]/sum(btype_count[1:])\n",
    "\n",
    "print(a*100)\n",
    "\n",
    "#y_n =np_data[1:, 7]\n",
    "#np.unique(y_n, return_counts=True)"
   ]
  }
 ],
 "metadata": {
  "kernelspec": {
   "display_name": "Python 3 (ipykernel)",
   "language": "python",
   "name": "python3"
  },
  "language_info": {
   "codemirror_mode": {
    "name": "ipython",
    "version": 3
   },
   "file_extension": ".py",
   "mimetype": "text/x-python",
   "name": "python",
   "nbconvert_exporter": "python",
   "pygments_lexer": "ipython3",
   "version": "3.10.9"
  },
  "vscode": {
   "interpreter": {
    "hash": "08804ff59ba42edf801cabf0150036e830ede650fb4c74b1d2ab081b0e1a309a"
   }
  }
 },
 "nbformat": 4,
 "nbformat_minor": 2
}
